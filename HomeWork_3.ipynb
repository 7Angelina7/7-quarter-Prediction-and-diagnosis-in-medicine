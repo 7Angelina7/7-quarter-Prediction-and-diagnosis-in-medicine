{
  "nbformat": 4,
  "nbformat_minor": 0,
  "metadata": {
    "colab": {
      "provenance": [],
      "toc_visible": true,
      "gpuType": "T4"
    },
    "kernelspec": {
      "name": "python3",
      "display_name": "Python 3"
    },
    "language_info": {
      "name": "python"
    },
    "accelerator": "GPU"
  },
  "cells": [
    {
      "cell_type": "markdown",
      "source": [
        "# Задание 3.\n",
        "\n",
        "https://archive.ics.uci.edu/dataset/938/regensburg+pediatric+appendicitis\n",
        "c этим датасетом будем работать на уроке.\n",
        "\n",
        "ДЗ -\n",
        "\n",
        "1. Заполнить пропуски наиболее релеватным путем, аргументировать это.\n",
        "\n",
        "2. Таргетом оставляем признак - болен аппендицитом или нет.\n",
        "\n",
        "3. Построить три различные типа классификаторов, обязательно одну из них Keras или PyTorch. Построить графики функции потерь на трейне и тесте.\n",
        "\n",
        "4. Визуализировать важность признаков с точки зрения модели - чемпиона.\n",
        "\n",
        "5. Составить грамотный обобщающий вывод.\n",
        "\n",
        "Сдавать как обычно - Гитхаб или Гугл Колаб."
      ],
      "metadata": {
        "id": "hebGyKWpaW8Z"
      }
    },
    {
      "cell_type": "markdown",
      "source": [
        "# Постановка задачи\n",
        "\n",
        "Определить класс диагностического решения. Таргет - Diagnosis (бинарный)"
      ],
      "metadata": {
        "id": "kCfivKO1fOZt"
      }
    },
    {
      "cell_type": "markdown",
      "source": [
        "# Загрузка данных"
      ],
      "metadata": {
        "id": "l8qQteroa2oC"
      }
    },
    {
      "cell_type": "code",
      "execution_count": null,
      "metadata": {
        "colab": {
          "base_uri": "https://localhost:8080/"
        },
        "id": "Jo1uS0j0aRmB",
        "outputId": "8fde43ef-4504-4f1a-ebe4-a9b166c3eded"
      },
      "outputs": [
        {
          "output_type": "stream",
          "name": "stdout",
          "text": [
            "Requirement already satisfied: ucimlrepo in /usr/local/lib/python3.10/dist-packages (0.0.7)\n",
            "Requirement already satisfied: pandas>=1.0.0 in /usr/local/lib/python3.10/dist-packages (from ucimlrepo) (2.0.3)\n",
            "Requirement already satisfied: certifi>=2020.12.5 in /usr/local/lib/python3.10/dist-packages (from ucimlrepo) (2024.6.2)\n",
            "Requirement already satisfied: python-dateutil>=2.8.2 in /usr/local/lib/python3.10/dist-packages (from pandas>=1.0.0->ucimlrepo) (2.8.2)\n",
            "Requirement already satisfied: pytz>=2020.1 in /usr/local/lib/python3.10/dist-packages (from pandas>=1.0.0->ucimlrepo) (2023.4)\n",
            "Requirement already satisfied: tzdata>=2022.1 in /usr/local/lib/python3.10/dist-packages (from pandas>=1.0.0->ucimlrepo) (2024.1)\n",
            "Requirement already satisfied: numpy>=1.21.0 in /usr/local/lib/python3.10/dist-packages (from pandas>=1.0.0->ucimlrepo) (1.25.2)\n",
            "Requirement already satisfied: six>=1.5 in /usr/local/lib/python3.10/dist-packages (from python-dateutil>=2.8.2->pandas>=1.0.0->ucimlrepo) (1.16.0)\n"
          ]
        }
      ],
      "source": [
        "pip install ucimlrepo"
      ]
    },
    {
      "cell_type": "code",
      "source": [
        "from ucimlrepo import fetch_ucirepo\n",
        "\n",
        "# fetch dataset\n",
        "regensburg_pediatric_appendicitis = fetch_ucirepo(id=938)\n",
        "\n",
        "# data (as pandas dataframes)\n",
        "X = regensburg_pediatric_appendicitis.data.features\n",
        "y = regensburg_pediatric_appendicitis.data.targets\n",
        "\n",
        "# metadata\n",
        "print(regensburg_pediatric_appendicitis.metadata)\n",
        "\n",
        "# variable information\n",
        "print(regensburg_pediatric_appendicitis.variables)"
      ],
      "metadata": {
        "colab": {
          "base_uri": "https://localhost:8080/"
        },
        "id": "jui51c41aVpR",
        "outputId": "2c06fa38-934d-4e4b-ede7-d5f9ce9c540a"
      },
      "execution_count": null,
      "outputs": [
        {
          "output_type": "stream",
          "name": "stdout",
          "text": [
            "{'uci_id': 938, 'name': 'Regensburg Pediatric Appendicitis', 'repository_url': 'https://archive.ics.uci.edu/dataset/938/regensburg+pediatric+appendicitis', 'data_url': 'https://archive.ics.uci.edu/static/public/938/data.csv', 'abstract': 'This repository holds the data from a cohort of pediatric patients with suspected appendicitis admitted with abdominal pain to Children’s Hospital St. Hedwig in Regensburg, Germany, between 2016 and 2021. Each patient has (potentially multiple) ultrasound (US) images, aka views, tabular data comprising laboratory, physical examination, scoring results and ultrasonographic findings extracted manually by the experts, and three target variables, namely, diagnosis, management and severity.', 'area': 'Health and Medicine', 'tasks': ['Classification'], 'characteristics': ['Tabular', 'Image'], 'num_instances': 782, 'num_features': 53, 'feature_types': ['Real', 'Categorical', 'Integer'], 'demographics': ['Age', 'Sex'], 'target_col': ['Management', 'Severity', 'Diagnosis'], 'index_col': None, 'has_missing_values': 'yes', 'missing_values_symbol': 'NaN', 'year_of_dataset_creation': 2023, 'last_updated': 'Tue Feb 06 2024', 'dataset_doi': '10.5281/zenodo.7669442', 'creators': ['Ricards Marcinkevics', 'Patricia Reis', 'Ugne Klimiene', 'Ece Ozkan', 'Kieran Chin-Cheong', 'Alyssia Paschke', 'Julia Zerres', 'Markus Denzinger', 'David Niederberger', 'S. Wellmann', 'C. Knorr', 'Julia E.'], 'intro_paper': {'title': 'Interpretable and Intervenable Ultrasonography-based Machine Learning Models for Pediatric Appendicitis', 'authors': 'Ricards Marcinkevics, Patricia Reis Wolfertstetter, Ugne Klimiene, Ece Ozkan, Kieran Chin-Cheong, Alyssia Paschke, Julia Zerres, Markus Denzinger, David Niederberger, S. Wellmann, C. Knorr, Julia E. Vogt', 'published_in': 'Medical Image Analysis', 'year': 2023, 'url': 'https://arxiv.org/abs/2302.14460v2', 'doi': None}, 'additional_info': {'summary': 'This dataset was acquired in a retrospective study from a cohort of pediatric patients admitted with abdominal pain to Children’s Hospital St. Hedwig in Regensburg, Germany. Multiple abdominal B-mode ultrasound images were acquired for most patients, with the number of views varying from 1 to 15. The images depict various regions of interest, such as the abdomen’s right lower quadrant, appendix, intestines, lymph nodes and reproductive organs. Alongside multiple US images for each subject, the dataset includes information encompassing laboratory tests, physical examination results, clinical scores, such as Alvarado and pediatric appendicitis scores, and expert-produced ultrasonographic findings. Lastly, the subjects were labeled w.r.t. three target variables: diagnosis (appendicitis vs. no appendicitis), management (surgical vs. conservative) and severity (complicated vs. uncomplicated or no appendicitis). The study was approved by the Ethics Committee of the University of Regensburg (no. 18-1063-101, 18-1063_1-101 and 18-1063_2-101) and was performed following applicable guidelines and regulations.', 'purpose': None, 'funded_by': None, 'instances_represent': None, 'recommended_data_splits': None, 'sensitive_data': None, 'preprocessing_description': None, 'variable_info': None, 'citation': None}, 'external_url': 'https://zenodo.org/records/7669442'}\n",
            "                                name     role         type demographic  \\\n",
            "0                                Age  Feature   Continuous         Age   \n",
            "1                                BMI  Feature   Continuous        None   \n",
            "2                                Sex  Feature  Categorical         Sex   \n",
            "3                             Height  Feature   Continuous        None   \n",
            "4                             Weight  Feature      Integer        None   \n",
            "5                     Length_of_Stay  Feature      Integer        None   \n",
            "6                         Management   Target  Categorical        None   \n",
            "7                           Severity   Target  Categorical        None   \n",
            "8              Diagnosis_Presumptive    Other       Binary        None   \n",
            "9                          Diagnosis   Target       Binary        None   \n",
            "10                    Alvarado_Score  Feature      Integer        None   \n",
            "11     Paedriatic_Appendicitis_Score  Feature      Integer        None   \n",
            "12                    Appendix_on_US  Feature       Binary        None   \n",
            "13                 Appendix_Diameter  Feature      Integer        None   \n",
            "14                    Migratory_Pain  Feature       Binary        None   \n",
            "15              Lower_Right_Abd_Pain  Feature       Binary        None   \n",
            "16  Contralateral_Rebound_Tenderness  Feature       Binary        None   \n",
            "17                     Coughing_Pain  Feature       Binary        None   \n",
            "18                            Nausea  Feature       Binary        None   \n",
            "19                  Loss_of_Appetite  Feature       Binary        None   \n",
            "20                  Body_Temperature  Feature   Continuous        None   \n",
            "21                         WBC_Count  Feature   Continuous        None   \n",
            "22             Neutrophil_Percentage  Feature      Integer        None   \n",
            "23             Segmented_Neutrophils  Feature      Integer        None   \n",
            "24                      Neutrophilia  Feature  Categorical        None   \n",
            "25                         RBC_Count  Feature   Continuous        None   \n",
            "26                        Hemoglobin  Feature   Continuous        None   \n",
            "27                               RDW  Feature   Continuous        None   \n",
            "28                 Thrombocyte_Count  Feature      Integer        None   \n",
            "29                  Ketones_in_Urine  Feature  Categorical        None   \n",
            "30                      RBC_in_Urine  Feature  Categorical        None   \n",
            "31                      WBC_in_Urine  Feature  Categorical        None   \n",
            "32                               CRP  Feature      Integer        None   \n",
            "33                           Dysuria  Feature       Binary        None   \n",
            "34                             Stool  Feature  Categorical        None   \n",
            "35                       Peritonitis  Feature  Categorical        None   \n",
            "36                        Psoas_Sign  Feature  Categorical        None   \n",
            "37    Ipsilateral_Rebound_Tenderness  Feature  Categorical        None   \n",
            "38                      US_Performed  Feature  Categorical        None   \n",
            "39                         US_Number    Other      Integer        None   \n",
            "40                       Free_Fluids  Feature  Categorical        None   \n",
            "41              Appendix_Wall_Layers  Feature  Categorical        None   \n",
            "42                       Target_Sign  Feature  Categorical        None   \n",
            "43                     Appendicolith  Feature  Categorical        None   \n",
            "44                         Perfusion  Feature  Categorical        None   \n",
            "45                       Perforation  Feature  Categorical        None   \n",
            "46       Surrounding_Tissue_Reaction  Feature  Categorical        None   \n",
            "47              Appendicular_Abscess  Feature  Categorical        None   \n",
            "48                  Abscess_Location  Feature  Categorical        None   \n",
            "49          Pathological_Lymph_Nodes  Feature       Binary        None   \n",
            "50              Lymph_Nodes_Location  Feature  Categorical        None   \n",
            "51             Bowel_Wall_Thickening  Feature       Binary        None   \n",
            "52       Conglomerate_of_Bowel_Loops  Feature       Binary        None   \n",
            "53                             Ileus  Feature  Categorical        None   \n",
            "54                       Coprostasis  Feature  Categorical        None   \n",
            "55                         Meteorism  Feature  Categorical        None   \n",
            "56                         Enteritis  Feature  Categorical        None   \n",
            "57            Gynecological_Findings  Feature  Categorical        None   \n",
            "\n",
            "                                          description  units missing_values  \n",
            "0                     Obtained from the date of birth  years            yes  \n",
            "1   Measures body fat; patient's weight divided by...   None            yes  \n",
            "2                                   Registered gender   None            yes  \n",
            "3                                    Patient's height   None            yes  \n",
            "4                                    Patient's weight   None            yes  \n",
            "5                  Length of the stay in the hospital   None            yes  \n",
            "6   (conservative, primary surgical, secondary sur...   None            yes  \n",
            "7   (uncomplicated, complicated) Severity of appen...   None            yes  \n",
            "8                       Patient's suspected diagnosis   None            yes  \n",
            "9   Patient's diagnosis, histologically confirmed ...   None            yes  \n",
            "10    Patient's score according to the scoring system   None            yes  \n",
            "11    Patient's score according to the scoring system   None            yes  \n",
            "12  Detectability of the vermiform appendix during...   None            yes  \n",
            "13             Maximal outer diameter of the appendix   None            yes  \n",
            "14  Abdominal pain; usually starts in epigastrium ...   None            yes  \n",
            "15       Right iliac fossa pain detected on palpation   None            yes  \n",
            "16  A state in which pain of the contralateral sid...   None            yes  \n",
            "17                     Abdominal pain by forced cough   None            yes  \n",
            "18  Feeling of sickness/ejection of contents from ...   None            yes  \n",
            "19                                               None   None            yes  \n",
            "20  Measured by a thermometer placed in the rectum...   None            yes  \n",
            "21  The number of leucocytes in a unit volume of b...   None            yes  \n",
            "22              Mature WBC in the granulocytic series   None            yes  \n",
            "23  Most mature neutrophilic granulocytes present ...   None            yes  \n",
            "24  Relative neutrophilic leucocytosis, often a re...   None            yes  \n",
            "25  The number of erythrocytes in a unit volume of...   None            yes  \n",
            "26  Hemoglobin level; a red protein in the red blo...   None            yes  \n",
            "27  A blood test that measures the differences in ...   None            yes  \n",
            "28  The number of platelets in a unit volume of blood   None            yes  \n",
            "29  Presence of ketone bodies in urine, e.g. in ca...   None            yes  \n",
            "30                                     Blood in urine   None            yes  \n",
            "31    Leucocytes in urine, e.g., in case of infection   None            yes  \n",
            "32  Protein produced by the liver, elevated in cas...   None            yes  \n",
            "33          Pain or other difficulty during urination   None            yes  \n",
            "34                 Characteristics of bowel movements   None            yes  \n",
            "35  Spasm of abdominal wall muscles detected on pa...   None            yes  \n",
            "36    Abdominal pain produced by extension of the hip   None            yes  \n",
            "37  A state in which pain of the ipsilateral side ...   None            yes  \n",
            "38  If an abdominal ultrasonography was performed ...   None            yes  \n",
            "39                                               None   None            yes  \n",
            "40                     Free fluids inside the abdomen   None            yes  \n",
            "41  Distribution and characteristics of appendix l...   None            yes  \n",
            "42  Axial image of appendix with a fluid-filled ce...   None            yes  \n",
            "43  Presence of fecalith in the appendix, e.g. aco...   None            yes  \n",
            "44                    Blood flow to the appendix wall   None            yes  \n",
            "45                Signs of appendix perforation in US   None            yes  \n",
            "46  Inflammation signs in tissue (i.a. in omentum/...   None            yes  \n",
            "47                                   Appendiceal mass   None            yes  \n",
            "48             Location of the abcess intraperitoneal   None            yes  \n",
            "49  Enlarged and inflamed intra-abdominal lymph nodes   None            yes  \n",
            "50  The location of pathological lymph nodes in th...   None            yes  \n",
            "51  Edema of the intestinal wall, > 2-3 mm for sma...   None            yes  \n",
            "52  Small intestine conglomerate as sign of intrap...   None            yes  \n",
            "53  Sonographic signs of paralytic ileus (e.g., di...   None            yes  \n",
            "54                       Fecal impaction in the colon   None            yes  \n",
            "55               Accumulation of gas in the intestine   None            yes  \n",
            "56  Sonographic features of gastroenteritis, e.g. ...   None            yes  \n",
            "57  Gynaecological abnormalities, e.g. cysts, ovar...   None            yes  \n"
          ]
        }
      ]
    },
    {
      "cell_type": "markdown",
      "source": [
        "## Описание датасета\n",
        "\n",
        "Этот набор данных был получен в ходе ретроспективного исследования группы педиатрических пациентов, госпитализированных с болью в животе в детскую больницу Святой Хедвиги в Регенсбурге, Германия.\n",
        "\n",
        "Большинству пациентов было сделано несколько ультразвуковых изображений брюшной полости в В-режиме, при этом количество просмотров варьировало от 1 до 15. На изображениях выдны различные области, представляющие интерес, такие как правый нижний квадрант живота, аппендикс, кишечник, лимфатические узлы и репродуктивные органы.\n",
        "\n",
        "Наряду с несколькими снимками УЗИ для каждого субъекта, набор данных включает в себя информацию, охватывающую лабораторные тесты, результаты физикального осмотра, клинические оценки, такие как Альварадо и детский аппендицит, а также результаты ультразвукового исследования, полученные экспертами.\n",
        "\n",
        "Наконец, испытуемые были помечены по трем целевым переменным: диагноз (аппендицит или отсутствие аппендицита), лечение (хирургическое или консервативное) и тяжесть (осложненный или неосложненный аппендицит или отсутствие аппендицита). Исследование было одобрено Комитетом по этике Университета Регенсбурга (No 18-1063-101, 18-1063_1-101 и 18-1063_2-101) и выполнено в соответствии с действующими рекомендациями и правилами."
      ],
      "metadata": {
        "id": "pTB4yxBtgadq"
      }
    },
    {
      "cell_type": "markdown",
      "source": [
        "# Импорт библиотек"
      ],
      "metadata": {
        "id": "4g_tR9Z0bS3Z"
      }
    },
    {
      "cell_type": "code",
      "source": [
        "pip install --upgrade scikit-learn"
      ],
      "metadata": {
        "colab": {
          "base_uri": "https://localhost:8080/"
        },
        "id": "AhTOUvTkj6Ol",
        "outputId": "60f64058-26ae-40f0-910f-818178afb40a"
      },
      "execution_count": null,
      "outputs": [
        {
          "output_type": "stream",
          "name": "stdout",
          "text": [
            "Requirement already satisfied: scikit-learn in /usr/local/lib/python3.10/dist-packages (1.5.0)\n",
            "Requirement already satisfied: numpy>=1.19.5 in /usr/local/lib/python3.10/dist-packages (from scikit-learn) (1.25.2)\n",
            "Requirement already satisfied: scipy>=1.6.0 in /usr/local/lib/python3.10/dist-packages (from scikit-learn) (1.11.4)\n",
            "Requirement already satisfied: joblib>=1.2.0 in /usr/local/lib/python3.10/dist-packages (from scikit-learn) (1.4.2)\n",
            "Requirement already satisfied: threadpoolctl>=3.1.0 in /usr/local/lib/python3.10/dist-packages (from scikit-learn) (3.5.0)\n"
          ]
        }
      ]
    },
    {
      "cell_type": "code",
      "source": [
        "!pip install fancyimpute -q\n",
        "!pip install catboost -q\n",
        "!pip install eli5 -q"
      ],
      "metadata": {
        "id": "mtXaURUJllxT"
      },
      "execution_count": null,
      "outputs": []
    },
    {
      "cell_type": "code",
      "source": [
        "import pandas as pd\n",
        "import numpy as np\n",
        "import matplotlib.pyplot as plt\n",
        "import seaborn as sns\n",
        "from sklearn.model_selection import train_test_split, cross_val_score"
      ],
      "metadata": {
        "id": "gdVQ2q52aVnh"
      },
      "execution_count": null,
      "outputs": []
    },
    {
      "cell_type": "code",
      "source": [
        "from sklearn.metrics import accuracy_score, classification_report, confusion_matrix"
      ],
      "metadata": {
        "id": "Vzvscn8UwSl6"
      },
      "execution_count": null,
      "outputs": []
    },
    {
      "cell_type": "code",
      "source": [
        "from sklearn.metrics import accuracy_score, log_loss\n",
        "from sklearn.metrics import f1_score\n",
        "from sklearn.metrics import roc_auc_score\n",
        "from sklearn.metrics import r2_score\n",
        "from sklearn.metrics import classification_report"
      ],
      "metadata": {
        "id": "QTlYs_guVX5I"
      },
      "execution_count": null,
      "outputs": []
    },
    {
      "cell_type": "code",
      "source": [
        "from sklearn.linear_model import LogisticRegression"
      ],
      "metadata": {
        "id": "wHi-6s5P675e"
      },
      "execution_count": null,
      "outputs": []
    },
    {
      "cell_type": "code",
      "source": [
        "from sklearn.preprocessing import OneHotEncoder, MinMaxScaler, StandardScaler, LabelEncoder, label_binarize\n"
      ],
      "metadata": {
        "id": "jzoLvnRFVPto"
      },
      "execution_count": null,
      "outputs": []
    },
    {
      "cell_type": "code",
      "source": [
        "!pip install catboost"
      ],
      "metadata": {
        "colab": {
          "base_uri": "https://localhost:8080/"
        },
        "id": "I3cnQCaAgL71",
        "outputId": "ffae49e7-9792-4582-8d1c-0e67007a9522"
      },
      "execution_count": null,
      "outputs": [
        {
          "output_type": "stream",
          "name": "stdout",
          "text": [
            "Requirement already satisfied: catboost in /usr/local/lib/python3.10/dist-packages (1.2.5)\n",
            "Requirement already satisfied: graphviz in /usr/local/lib/python3.10/dist-packages (from catboost) (0.20.3)\n",
            "Requirement already satisfied: matplotlib in /usr/local/lib/python3.10/dist-packages (from catboost) (3.7.1)\n",
            "Requirement already satisfied: numpy>=1.16.0 in /usr/local/lib/python3.10/dist-packages (from catboost) (1.25.2)\n",
            "Requirement already satisfied: pandas>=0.24 in /usr/local/lib/python3.10/dist-packages (from catboost) (2.0.3)\n",
            "Requirement already satisfied: scipy in /usr/local/lib/python3.10/dist-packages (from catboost) (1.11.4)\n",
            "Requirement already satisfied: plotly in /usr/local/lib/python3.10/dist-packages (from catboost) (5.15.0)\n",
            "Requirement already satisfied: six in /usr/local/lib/python3.10/dist-packages (from catboost) (1.16.0)\n",
            "Requirement already satisfied: python-dateutil>=2.8.2 in /usr/local/lib/python3.10/dist-packages (from pandas>=0.24->catboost) (2.8.2)\n",
            "Requirement already satisfied: pytz>=2020.1 in /usr/local/lib/python3.10/dist-packages (from pandas>=0.24->catboost) (2023.4)\n",
            "Requirement already satisfied: tzdata>=2022.1 in /usr/local/lib/python3.10/dist-packages (from pandas>=0.24->catboost) (2024.1)\n",
            "Requirement already satisfied: contourpy>=1.0.1 in /usr/local/lib/python3.10/dist-packages (from matplotlib->catboost) (1.2.1)\n",
            "Requirement already satisfied: cycler>=0.10 in /usr/local/lib/python3.10/dist-packages (from matplotlib->catboost) (0.12.1)\n",
            "Requirement already satisfied: fonttools>=4.22.0 in /usr/local/lib/python3.10/dist-packages (from matplotlib->catboost) (4.53.0)\n",
            "Requirement already satisfied: kiwisolver>=1.0.1 in /usr/local/lib/python3.10/dist-packages (from matplotlib->catboost) (1.4.5)\n",
            "Requirement already satisfied: packaging>=20.0 in /usr/local/lib/python3.10/dist-packages (from matplotlib->catboost) (24.1)\n",
            "Requirement already satisfied: pillow>=6.2.0 in /usr/local/lib/python3.10/dist-packages (from matplotlib->catboost) (9.4.0)\n",
            "Requirement already satisfied: pyparsing>=2.3.1 in /usr/local/lib/python3.10/dist-packages (from matplotlib->catboost) (3.1.2)\n",
            "Requirement already satisfied: tenacity>=6.2.0 in /usr/local/lib/python3.10/dist-packages (from plotly->catboost) (8.3.0)\n"
          ]
        }
      ]
    },
    {
      "cell_type": "code",
      "source": [
        "from catboost import CatBoostClassifier, Pool"
      ],
      "metadata": {
        "id": "Ndp1RwJpffcf"
      },
      "execution_count": null,
      "outputs": []
    },
    {
      "cell_type": "code",
      "source": [
        "from sklearn.preprocessing import MinMaxScaler"
      ],
      "metadata": {
        "id": "6TUhzXReaVlJ"
      },
      "execution_count": null,
      "outputs": []
    },
    {
      "cell_type": "code",
      "source": [
        "import torch\n",
        "import torch.nn as nn\n",
        "import torch.optim as optim\n",
        "import torchvision\n",
        "import torchvision.transforms as transforms"
      ],
      "metadata": {
        "id": "_GnVJ4yN9VYM"
      },
      "execution_count": null,
      "outputs": []
    },
    {
      "cell_type": "markdown",
      "source": [
        "# EDA"
      ],
      "metadata": {
        "id": "JyWqMDg4bbSc"
      }
    },
    {
      "cell_type": "code",
      "source": [
        "# Объединение датасета\n",
        "df = pd.concat([X, y], axis = 1)"
      ],
      "metadata": {
        "id": "vPathkjSaViw"
      },
      "execution_count": null,
      "outputs": []
    },
    {
      "cell_type": "code",
      "source": [
        "df.info()"
      ],
      "metadata": {
        "colab": {
          "base_uri": "https://localhost:8080/"
        },
        "id": "9DDK3UmraVb3",
        "outputId": "f7dbcba5-6e3b-4810-a07c-efd2fb12d04e"
      },
      "execution_count": null,
      "outputs": [
        {
          "output_type": "stream",
          "name": "stdout",
          "text": [
            "<class 'pandas.core.frame.DataFrame'>\n",
            "RangeIndex: 782 entries, 0 to 781\n",
            "Data columns (total 56 columns):\n",
            " #   Column                            Non-Null Count  Dtype  \n",
            "---  ------                            --------------  -----  \n",
            " 0   Age                               781 non-null    float64\n",
            " 1   BMI                               755 non-null    float64\n",
            " 2   Sex                               780 non-null    object \n",
            " 3   Height                            756 non-null    float64\n",
            " 4   Weight                            779 non-null    float64\n",
            " 5   Length_of_Stay                    778 non-null    float64\n",
            " 6   Alvarado_Score                    730 non-null    float64\n",
            " 7   Paedriatic_Appendicitis_Score     730 non-null    float64\n",
            " 8   Appendix_on_US                    777 non-null    object \n",
            " 9   Appendix_Diameter                 498 non-null    float64\n",
            " 10  Migratory_Pain                    773 non-null    object \n",
            " 11  Lower_Right_Abd_Pain              774 non-null    object \n",
            " 12  Contralateral_Rebound_Tenderness  767 non-null    object \n",
            " 13  Coughing_Pain                     766 non-null    object \n",
            " 14  Nausea                            774 non-null    object \n",
            " 15  Loss_of_Appetite                  772 non-null    object \n",
            " 16  Body_Temperature                  775 non-null    float64\n",
            " 17  WBC_Count                         776 non-null    float64\n",
            " 18  Neutrophil_Percentage             679 non-null    float64\n",
            " 19  Segmented_Neutrophils             54 non-null     float64\n",
            " 20  Neutrophilia                      732 non-null    object \n",
            " 21  RBC_Count                         764 non-null    float64\n",
            " 22  Hemoglobin                        764 non-null    float64\n",
            " 23  RDW                               756 non-null    float64\n",
            " 24  Thrombocyte_Count                 764 non-null    float64\n",
            " 25  Ketones_in_Urine                  582 non-null    object \n",
            " 26  RBC_in_Urine                      576 non-null    object \n",
            " 27  WBC_in_Urine                      583 non-null    object \n",
            " 28  CRP                               771 non-null    float64\n",
            " 29  Dysuria                           753 non-null    object \n",
            " 30  Stool                             765 non-null    object \n",
            " 31  Peritonitis                       773 non-null    object \n",
            " 32  Psoas_Sign                        745 non-null    object \n",
            " 33  Ipsilateral_Rebound_Tenderness    619 non-null    object \n",
            " 34  US_Performed                      778 non-null    object \n",
            " 35  Free_Fluids                       719 non-null    object \n",
            " 36  Appendix_Wall_Layers              218 non-null    object \n",
            " 37  Target_Sign                       138 non-null    object \n",
            " 38  Appendicolith                     69 non-null     object \n",
            " 39  Perfusion                         63 non-null     object \n",
            " 40  Perforation                       81 non-null     object \n",
            " 41  Surrounding_Tissue_Reaction       252 non-null    object \n",
            " 42  Appendicular_Abscess              85 non-null     object \n",
            " 43  Abscess_Location                  13 non-null     object \n",
            " 44  Pathological_Lymph_Nodes          203 non-null    object \n",
            " 45  Lymph_Nodes_Location              121 non-null    object \n",
            " 46  Bowel_Wall_Thickening             99 non-null     object \n",
            " 47  Conglomerate_of_Bowel_Loops       43 non-null     object \n",
            " 48  Ileus                             60 non-null     object \n",
            " 49  Coprostasis                       71 non-null     object \n",
            " 50  Meteorism                         140 non-null    object \n",
            " 51  Enteritis                         66 non-null     object \n",
            " 52  Gynecological_Findings            26 non-null     object \n",
            " 53  Management                        781 non-null    object \n",
            " 54  Severity                          781 non-null    object \n",
            " 55  Diagnosis                         780 non-null    object \n",
            "dtypes: float64(17), object(39)\n",
            "memory usage: 342.2+ KB\n"
          ]
        }
      ]
    },
    {
      "cell_type": "markdown",
      "source": [
        "17 числовых признаков, 39 категориальных"
      ],
      "metadata": {
        "id": "1OlG5wrvO7G-"
      }
    },
    {
      "cell_type": "markdown",
      "source": [
        "У таргета отсутствует одно значение. Удалим эту строку."
      ],
      "metadata": {
        "id": "CavMok81PlRx"
      }
    },
    {
      "cell_type": "code",
      "source": [
        "df = df.dropna(subset = ['Diagnosis'])"
      ],
      "metadata": {
        "id": "jEypwszdPtSV"
      },
      "execution_count": null,
      "outputs": []
    },
    {
      "cell_type": "code",
      "source": [
        "df.isna().sum()"
      ],
      "metadata": {
        "colab": {
          "base_uri": "https://localhost:8080/"
        },
        "id": "Znavo3kGf4vQ",
        "outputId": "c29cdca6-f955-4add-8783-8997bab70755"
      },
      "execution_count": null,
      "outputs": [
        {
          "output_type": "execute_result",
          "data": {
            "text/plain": [
              "Age                                   0\n",
              "BMI                                  26\n",
              "Sex                                   1\n",
              "Height                               25\n",
              "Weight                                2\n",
              "Length_of_Stay                        3\n",
              "Alvarado_Score                       50\n",
              "Paedriatic_Appendicitis_Score        50\n",
              "Appendix_on_US                        3\n",
              "Appendix_Diameter                   282\n",
              "Migratory_Pain                        7\n",
              "Lower_Right_Abd_Pain                  6\n",
              "Contralateral_Rebound_Tenderness     13\n",
              "Coughing_Pain                        14\n",
              "Nausea                                6\n",
              "Loss_of_Appetite                      8\n",
              "Body_Temperature                      5\n",
              "WBC_Count                             4\n",
              "Neutrophil_Percentage               101\n",
              "Segmented_Neutrophils               726\n",
              "Neutrophilia                         48\n",
              "RBC_Count                            16\n",
              "Hemoglobin                           16\n",
              "RDW                                  24\n",
              "Thrombocyte_Count                    16\n",
              "Ketones_in_Urine                    198\n",
              "RBC_in_Urine                        204\n",
              "WBC_in_Urine                        197\n",
              "CRP                                   9\n",
              "Dysuria                              27\n",
              "Stool                                15\n",
              "Peritonitis                           7\n",
              "Psoas_Sign                           35\n",
              "Ipsilateral_Rebound_Tenderness      161\n",
              "US_Performed                          3\n",
              "Free_Fluids                          61\n",
              "Appendix_Wall_Layers                562\n",
              "Target_Sign                         642\n",
              "Appendicolith                       711\n",
              "Perfusion                           717\n",
              "Perforation                         699\n",
              "Surrounding_Tissue_Reaction         528\n",
              "Appendicular_Abscess                695\n",
              "Abscess_Location                    767\n",
              "Pathological_Lymph_Nodes            577\n",
              "Lymph_Nodes_Location                659\n",
              "Bowel_Wall_Thickening               681\n",
              "Conglomerate_of_Bowel_Loops         737\n",
              "Ileus                               720\n",
              "Coprostasis                         709\n",
              "Meteorism                           640\n",
              "Enteritis                           714\n",
              "Gynecological_Findings              754\n",
              "Management                            0\n",
              "Severity                              0\n",
              "Diagnosis                             0\n",
              "dtype: int64"
            ]
          },
          "metadata": {},
          "execution_count": 1123
        }
      ]
    },
    {
      "cell_type": "markdown",
      "source": [
        "## формирование списка для удаления неинформативных колонок, обработка пропусков"
      ],
      "metadata": {
        "id": "eNmz2kWDWVzX"
      }
    },
    {
      "cell_type": "markdown",
      "source": [
        "Посмотрим признаки с пропусками в процентном соотношении"
      ],
      "metadata": {
        "id": "UOJUiCotRACV"
      }
    },
    {
      "cell_type": "code",
      "source": [
        "null = df.isna().sum()/len(df) * 100\n",
        "null = pd.DataFrame({'feature':null.index, 'null_percentage':null}).sort_values(by='null_percentage', ascending=False).reset_index(drop=True)"
      ],
      "metadata": {
        "id": "K1Nl8Bh4f4tG"
      },
      "execution_count": null,
      "outputs": []
    },
    {
      "cell_type": "code",
      "source": [
        "null"
      ],
      "metadata": {
        "colab": {
          "base_uri": "https://localhost:8080/",
          "height": 1000
        },
        "id": "ASvdIOzBf4q9",
        "outputId": "fc155735-8d7c-45e0-8900-4ad9e757cb72"
      },
      "execution_count": null,
      "outputs": [
        {
          "output_type": "execute_result",
          "data": {
            "text/plain": [
              "                             feature  null_percentage\n",
              "0                   Abscess_Location        98.333333\n",
              "1             Gynecological_Findings        96.666667\n",
              "2        Conglomerate_of_Bowel_Loops        94.487179\n",
              "3              Segmented_Neutrophils        93.076923\n",
              "4                              Ileus        92.307692\n",
              "5                          Perfusion        91.923077\n",
              "6                          Enteritis        91.538462\n",
              "7                      Appendicolith        91.153846\n",
              "8                        Coprostasis        90.897436\n",
              "9                        Perforation        89.615385\n",
              "10              Appendicular_Abscess        89.102564\n",
              "11             Bowel_Wall_Thickening        87.307692\n",
              "12              Lymph_Nodes_Location        84.487179\n",
              "13                       Target_Sign        82.307692\n",
              "14                         Meteorism        82.051282\n",
              "15          Pathological_Lymph_Nodes        73.974359\n",
              "16              Appendix_Wall_Layers        72.051282\n",
              "17       Surrounding_Tissue_Reaction        67.692308\n",
              "18                 Appendix_Diameter        36.153846\n",
              "19                      RBC_in_Urine        26.153846\n",
              "20                  Ketones_in_Urine        25.384615\n",
              "21                      WBC_in_Urine        25.256410\n",
              "22    Ipsilateral_Rebound_Tenderness        20.641026\n",
              "23             Neutrophil_Percentage        12.948718\n",
              "24                       Free_Fluids         7.820513\n",
              "25                    Alvarado_Score         6.410256\n",
              "26     Paedriatic_Appendicitis_Score         6.410256\n",
              "27                      Neutrophilia         6.153846\n",
              "28                        Psoas_Sign         4.487179\n",
              "29                           Dysuria         3.461538\n",
              "30                               BMI         3.333333\n",
              "31                            Height         3.205128\n",
              "32                               RDW         3.076923\n",
              "33                        Hemoglobin         2.051282\n",
              "34                 Thrombocyte_Count         2.051282\n",
              "35                         RBC_Count         2.051282\n",
              "36                             Stool         1.923077\n",
              "37                     Coughing_Pain         1.794872\n",
              "38  Contralateral_Rebound_Tenderness         1.666667\n",
              "39                               CRP         1.153846\n",
              "40                  Loss_of_Appetite         1.025641\n",
              "41                    Migratory_Pain         0.897436\n",
              "42                       Peritonitis         0.897436\n",
              "43              Lower_Right_Abd_Pain         0.769231\n",
              "44                            Nausea         0.769231\n",
              "45                  Body_Temperature         0.641026\n",
              "46                         WBC_Count         0.512821\n",
              "47                    Appendix_on_US         0.384615\n",
              "48                      US_Performed         0.384615\n",
              "49                    Length_of_Stay         0.384615\n",
              "50                            Weight         0.256410\n",
              "51                               Sex         0.128205\n",
              "52                          Severity         0.000000\n",
              "53                               Age         0.000000\n",
              "54                        Management         0.000000\n",
              "55                         Diagnosis         0.000000"
            ],
            "text/html": [
              "\n",
              "  <div id=\"df-f03cd3f1-7166-4175-85f6-927f93fe6aaa\" class=\"colab-df-container\">\n",
              "    <div>\n",
              "<style scoped>\n",
              "    .dataframe tbody tr th:only-of-type {\n",
              "        vertical-align: middle;\n",
              "    }\n",
              "\n",
              "    .dataframe tbody tr th {\n",
              "        vertical-align: top;\n",
              "    }\n",
              "\n",
              "    .dataframe thead th {\n",
              "        text-align: right;\n",
              "    }\n",
              "</style>\n",
              "<table border=\"1\" class=\"dataframe\">\n",
              "  <thead>\n",
              "    <tr style=\"text-align: right;\">\n",
              "      <th></th>\n",
              "      <th>feature</th>\n",
              "      <th>null_percentage</th>\n",
              "    </tr>\n",
              "  </thead>\n",
              "  <tbody>\n",
              "    <tr>\n",
              "      <th>0</th>\n",
              "      <td>Abscess_Location</td>\n",
              "      <td>98.333333</td>\n",
              "    </tr>\n",
              "    <tr>\n",
              "      <th>1</th>\n",
              "      <td>Gynecological_Findings</td>\n",
              "      <td>96.666667</td>\n",
              "    </tr>\n",
              "    <tr>\n",
              "      <th>2</th>\n",
              "      <td>Conglomerate_of_Bowel_Loops</td>\n",
              "      <td>94.487179</td>\n",
              "    </tr>\n",
              "    <tr>\n",
              "      <th>3</th>\n",
              "      <td>Segmented_Neutrophils</td>\n",
              "      <td>93.076923</td>\n",
              "    </tr>\n",
              "    <tr>\n",
              "      <th>4</th>\n",
              "      <td>Ileus</td>\n",
              "      <td>92.307692</td>\n",
              "    </tr>\n",
              "    <tr>\n",
              "      <th>5</th>\n",
              "      <td>Perfusion</td>\n",
              "      <td>91.923077</td>\n",
              "    </tr>\n",
              "    <tr>\n",
              "      <th>6</th>\n",
              "      <td>Enteritis</td>\n",
              "      <td>91.538462</td>\n",
              "    </tr>\n",
              "    <tr>\n",
              "      <th>7</th>\n",
              "      <td>Appendicolith</td>\n",
              "      <td>91.153846</td>\n",
              "    </tr>\n",
              "    <tr>\n",
              "      <th>8</th>\n",
              "      <td>Coprostasis</td>\n",
              "      <td>90.897436</td>\n",
              "    </tr>\n",
              "    <tr>\n",
              "      <th>9</th>\n",
              "      <td>Perforation</td>\n",
              "      <td>89.615385</td>\n",
              "    </tr>\n",
              "    <tr>\n",
              "      <th>10</th>\n",
              "      <td>Appendicular_Abscess</td>\n",
              "      <td>89.102564</td>\n",
              "    </tr>\n",
              "    <tr>\n",
              "      <th>11</th>\n",
              "      <td>Bowel_Wall_Thickening</td>\n",
              "      <td>87.307692</td>\n",
              "    </tr>\n",
              "    <tr>\n",
              "      <th>12</th>\n",
              "      <td>Lymph_Nodes_Location</td>\n",
              "      <td>84.487179</td>\n",
              "    </tr>\n",
              "    <tr>\n",
              "      <th>13</th>\n",
              "      <td>Target_Sign</td>\n",
              "      <td>82.307692</td>\n",
              "    </tr>\n",
              "    <tr>\n",
              "      <th>14</th>\n",
              "      <td>Meteorism</td>\n",
              "      <td>82.051282</td>\n",
              "    </tr>\n",
              "    <tr>\n",
              "      <th>15</th>\n",
              "      <td>Pathological_Lymph_Nodes</td>\n",
              "      <td>73.974359</td>\n",
              "    </tr>\n",
              "    <tr>\n",
              "      <th>16</th>\n",
              "      <td>Appendix_Wall_Layers</td>\n",
              "      <td>72.051282</td>\n",
              "    </tr>\n",
              "    <tr>\n",
              "      <th>17</th>\n",
              "      <td>Surrounding_Tissue_Reaction</td>\n",
              "      <td>67.692308</td>\n",
              "    </tr>\n",
              "    <tr>\n",
              "      <th>18</th>\n",
              "      <td>Appendix_Diameter</td>\n",
              "      <td>36.153846</td>\n",
              "    </tr>\n",
              "    <tr>\n",
              "      <th>19</th>\n",
              "      <td>RBC_in_Urine</td>\n",
              "      <td>26.153846</td>\n",
              "    </tr>\n",
              "    <tr>\n",
              "      <th>20</th>\n",
              "      <td>Ketones_in_Urine</td>\n",
              "      <td>25.384615</td>\n",
              "    </tr>\n",
              "    <tr>\n",
              "      <th>21</th>\n",
              "      <td>WBC_in_Urine</td>\n",
              "      <td>25.256410</td>\n",
              "    </tr>\n",
              "    <tr>\n",
              "      <th>22</th>\n",
              "      <td>Ipsilateral_Rebound_Tenderness</td>\n",
              "      <td>20.641026</td>\n",
              "    </tr>\n",
              "    <tr>\n",
              "      <th>23</th>\n",
              "      <td>Neutrophil_Percentage</td>\n",
              "      <td>12.948718</td>\n",
              "    </tr>\n",
              "    <tr>\n",
              "      <th>24</th>\n",
              "      <td>Free_Fluids</td>\n",
              "      <td>7.820513</td>\n",
              "    </tr>\n",
              "    <tr>\n",
              "      <th>25</th>\n",
              "      <td>Alvarado_Score</td>\n",
              "      <td>6.410256</td>\n",
              "    </tr>\n",
              "    <tr>\n",
              "      <th>26</th>\n",
              "      <td>Paedriatic_Appendicitis_Score</td>\n",
              "      <td>6.410256</td>\n",
              "    </tr>\n",
              "    <tr>\n",
              "      <th>27</th>\n",
              "      <td>Neutrophilia</td>\n",
              "      <td>6.153846</td>\n",
              "    </tr>\n",
              "    <tr>\n",
              "      <th>28</th>\n",
              "      <td>Psoas_Sign</td>\n",
              "      <td>4.487179</td>\n",
              "    </tr>\n",
              "    <tr>\n",
              "      <th>29</th>\n",
              "      <td>Dysuria</td>\n",
              "      <td>3.461538</td>\n",
              "    </tr>\n",
              "    <tr>\n",
              "      <th>30</th>\n",
              "      <td>BMI</td>\n",
              "      <td>3.333333</td>\n",
              "    </tr>\n",
              "    <tr>\n",
              "      <th>31</th>\n",
              "      <td>Height</td>\n",
              "      <td>3.205128</td>\n",
              "    </tr>\n",
              "    <tr>\n",
              "      <th>32</th>\n",
              "      <td>RDW</td>\n",
              "      <td>3.076923</td>\n",
              "    </tr>\n",
              "    <tr>\n",
              "      <th>33</th>\n",
              "      <td>Hemoglobin</td>\n",
              "      <td>2.051282</td>\n",
              "    </tr>\n",
              "    <tr>\n",
              "      <th>34</th>\n",
              "      <td>Thrombocyte_Count</td>\n",
              "      <td>2.051282</td>\n",
              "    </tr>\n",
              "    <tr>\n",
              "      <th>35</th>\n",
              "      <td>RBC_Count</td>\n",
              "      <td>2.051282</td>\n",
              "    </tr>\n",
              "    <tr>\n",
              "      <th>36</th>\n",
              "      <td>Stool</td>\n",
              "      <td>1.923077</td>\n",
              "    </tr>\n",
              "    <tr>\n",
              "      <th>37</th>\n",
              "      <td>Coughing_Pain</td>\n",
              "      <td>1.794872</td>\n",
              "    </tr>\n",
              "    <tr>\n",
              "      <th>38</th>\n",
              "      <td>Contralateral_Rebound_Tenderness</td>\n",
              "      <td>1.666667</td>\n",
              "    </tr>\n",
              "    <tr>\n",
              "      <th>39</th>\n",
              "      <td>CRP</td>\n",
              "      <td>1.153846</td>\n",
              "    </tr>\n",
              "    <tr>\n",
              "      <th>40</th>\n",
              "      <td>Loss_of_Appetite</td>\n",
              "      <td>1.025641</td>\n",
              "    </tr>\n",
              "    <tr>\n",
              "      <th>41</th>\n",
              "      <td>Migratory_Pain</td>\n",
              "      <td>0.897436</td>\n",
              "    </tr>\n",
              "    <tr>\n",
              "      <th>42</th>\n",
              "      <td>Peritonitis</td>\n",
              "      <td>0.897436</td>\n",
              "    </tr>\n",
              "    <tr>\n",
              "      <th>43</th>\n",
              "      <td>Lower_Right_Abd_Pain</td>\n",
              "      <td>0.769231</td>\n",
              "    </tr>\n",
              "    <tr>\n",
              "      <th>44</th>\n",
              "      <td>Nausea</td>\n",
              "      <td>0.769231</td>\n",
              "    </tr>\n",
              "    <tr>\n",
              "      <th>45</th>\n",
              "      <td>Body_Temperature</td>\n",
              "      <td>0.641026</td>\n",
              "    </tr>\n",
              "    <tr>\n",
              "      <th>46</th>\n",
              "      <td>WBC_Count</td>\n",
              "      <td>0.512821</td>\n",
              "    </tr>\n",
              "    <tr>\n",
              "      <th>47</th>\n",
              "      <td>Appendix_on_US</td>\n",
              "      <td>0.384615</td>\n",
              "    </tr>\n",
              "    <tr>\n",
              "      <th>48</th>\n",
              "      <td>US_Performed</td>\n",
              "      <td>0.384615</td>\n",
              "    </tr>\n",
              "    <tr>\n",
              "      <th>49</th>\n",
              "      <td>Length_of_Stay</td>\n",
              "      <td>0.384615</td>\n",
              "    </tr>\n",
              "    <tr>\n",
              "      <th>50</th>\n",
              "      <td>Weight</td>\n",
              "      <td>0.256410</td>\n",
              "    </tr>\n",
              "    <tr>\n",
              "      <th>51</th>\n",
              "      <td>Sex</td>\n",
              "      <td>0.128205</td>\n",
              "    </tr>\n",
              "    <tr>\n",
              "      <th>52</th>\n",
              "      <td>Severity</td>\n",
              "      <td>0.000000</td>\n",
              "    </tr>\n",
              "    <tr>\n",
              "      <th>53</th>\n",
              "      <td>Age</td>\n",
              "      <td>0.000000</td>\n",
              "    </tr>\n",
              "    <tr>\n",
              "      <th>54</th>\n",
              "      <td>Management</td>\n",
              "      <td>0.000000</td>\n",
              "    </tr>\n",
              "    <tr>\n",
              "      <th>55</th>\n",
              "      <td>Diagnosis</td>\n",
              "      <td>0.000000</td>\n",
              "    </tr>\n",
              "  </tbody>\n",
              "</table>\n",
              "</div>\n",
              "    <div class=\"colab-df-buttons\">\n",
              "\n",
              "  <div class=\"colab-df-container\">\n",
              "    <button class=\"colab-df-convert\" onclick=\"convertToInteractive('df-f03cd3f1-7166-4175-85f6-927f93fe6aaa')\"\n",
              "            title=\"Convert this dataframe to an interactive table.\"\n",
              "            style=\"display:none;\">\n",
              "\n",
              "  <svg xmlns=\"http://www.w3.org/2000/svg\" height=\"24px\" viewBox=\"0 -960 960 960\">\n",
              "    <path d=\"M120-120v-720h720v720H120Zm60-500h600v-160H180v160Zm220 220h160v-160H400v160Zm0 220h160v-160H400v160ZM180-400h160v-160H180v160Zm440 0h160v-160H620v160ZM180-180h160v-160H180v160Zm440 0h160v-160H620v160Z\"/>\n",
              "  </svg>\n",
              "    </button>\n",
              "\n",
              "  <style>\n",
              "    .colab-df-container {\n",
              "      display:flex;\n",
              "      gap: 12px;\n",
              "    }\n",
              "\n",
              "    .colab-df-convert {\n",
              "      background-color: #E8F0FE;\n",
              "      border: none;\n",
              "      border-radius: 50%;\n",
              "      cursor: pointer;\n",
              "      display: none;\n",
              "      fill: #1967D2;\n",
              "      height: 32px;\n",
              "      padding: 0 0 0 0;\n",
              "      width: 32px;\n",
              "    }\n",
              "\n",
              "    .colab-df-convert:hover {\n",
              "      background-color: #E2EBFA;\n",
              "      box-shadow: 0px 1px 2px rgba(60, 64, 67, 0.3), 0px 1px 3px 1px rgba(60, 64, 67, 0.15);\n",
              "      fill: #174EA6;\n",
              "    }\n",
              "\n",
              "    .colab-df-buttons div {\n",
              "      margin-bottom: 4px;\n",
              "    }\n",
              "\n",
              "    [theme=dark] .colab-df-convert {\n",
              "      background-color: #3B4455;\n",
              "      fill: #D2E3FC;\n",
              "    }\n",
              "\n",
              "    [theme=dark] .colab-df-convert:hover {\n",
              "      background-color: #434B5C;\n",
              "      box-shadow: 0px 1px 3px 1px rgba(0, 0, 0, 0.15);\n",
              "      filter: drop-shadow(0px 1px 2px rgba(0, 0, 0, 0.3));\n",
              "      fill: #FFFFFF;\n",
              "    }\n",
              "  </style>\n",
              "\n",
              "    <script>\n",
              "      const buttonEl =\n",
              "        document.querySelector('#df-f03cd3f1-7166-4175-85f6-927f93fe6aaa button.colab-df-convert');\n",
              "      buttonEl.style.display =\n",
              "        google.colab.kernel.accessAllowed ? 'block' : 'none';\n",
              "\n",
              "      async function convertToInteractive(key) {\n",
              "        const element = document.querySelector('#df-f03cd3f1-7166-4175-85f6-927f93fe6aaa');\n",
              "        const dataTable =\n",
              "          await google.colab.kernel.invokeFunction('convertToInteractive',\n",
              "                                                    [key], {});\n",
              "        if (!dataTable) return;\n",
              "\n",
              "        const docLinkHtml = 'Like what you see? Visit the ' +\n",
              "          '<a target=\"_blank\" href=https://colab.research.google.com/notebooks/data_table.ipynb>data table notebook</a>'\n",
              "          + ' to learn more about interactive tables.';\n",
              "        element.innerHTML = '';\n",
              "        dataTable['output_type'] = 'display_data';\n",
              "        await google.colab.output.renderOutput(dataTable, element);\n",
              "        const docLink = document.createElement('div');\n",
              "        docLink.innerHTML = docLinkHtml;\n",
              "        element.appendChild(docLink);\n",
              "      }\n",
              "    </script>\n",
              "  </div>\n",
              "\n",
              "\n",
              "<div id=\"df-9e90a10b-e1b6-4a87-a50e-7eede39db052\">\n",
              "  <button class=\"colab-df-quickchart\" onclick=\"quickchart('df-9e90a10b-e1b6-4a87-a50e-7eede39db052')\"\n",
              "            title=\"Suggest charts\"\n",
              "            style=\"display:none;\">\n",
              "\n",
              "<svg xmlns=\"http://www.w3.org/2000/svg\" height=\"24px\"viewBox=\"0 0 24 24\"\n",
              "     width=\"24px\">\n",
              "    <g>\n",
              "        <path d=\"M19 3H5c-1.1 0-2 .9-2 2v14c0 1.1.9 2 2 2h14c1.1 0 2-.9 2-2V5c0-1.1-.9-2-2-2zM9 17H7v-7h2v7zm4 0h-2V7h2v10zm4 0h-2v-4h2v4z\"/>\n",
              "    </g>\n",
              "</svg>\n",
              "  </button>\n",
              "\n",
              "<style>\n",
              "  .colab-df-quickchart {\n",
              "      --bg-color: #E8F0FE;\n",
              "      --fill-color: #1967D2;\n",
              "      --hover-bg-color: #E2EBFA;\n",
              "      --hover-fill-color: #174EA6;\n",
              "      --disabled-fill-color: #AAA;\n",
              "      --disabled-bg-color: #DDD;\n",
              "  }\n",
              "\n",
              "  [theme=dark] .colab-df-quickchart {\n",
              "      --bg-color: #3B4455;\n",
              "      --fill-color: #D2E3FC;\n",
              "      --hover-bg-color: #434B5C;\n",
              "      --hover-fill-color: #FFFFFF;\n",
              "      --disabled-bg-color: #3B4455;\n",
              "      --disabled-fill-color: #666;\n",
              "  }\n",
              "\n",
              "  .colab-df-quickchart {\n",
              "    background-color: var(--bg-color);\n",
              "    border: none;\n",
              "    border-radius: 50%;\n",
              "    cursor: pointer;\n",
              "    display: none;\n",
              "    fill: var(--fill-color);\n",
              "    height: 32px;\n",
              "    padding: 0;\n",
              "    width: 32px;\n",
              "  }\n",
              "\n",
              "  .colab-df-quickchart:hover {\n",
              "    background-color: var(--hover-bg-color);\n",
              "    box-shadow: 0 1px 2px rgba(60, 64, 67, 0.3), 0 1px 3px 1px rgba(60, 64, 67, 0.15);\n",
              "    fill: var(--button-hover-fill-color);\n",
              "  }\n",
              "\n",
              "  .colab-df-quickchart-complete:disabled,\n",
              "  .colab-df-quickchart-complete:disabled:hover {\n",
              "    background-color: var(--disabled-bg-color);\n",
              "    fill: var(--disabled-fill-color);\n",
              "    box-shadow: none;\n",
              "  }\n",
              "\n",
              "  .colab-df-spinner {\n",
              "    border: 2px solid var(--fill-color);\n",
              "    border-color: transparent;\n",
              "    border-bottom-color: var(--fill-color);\n",
              "    animation:\n",
              "      spin 1s steps(1) infinite;\n",
              "  }\n",
              "\n",
              "  @keyframes spin {\n",
              "    0% {\n",
              "      border-color: transparent;\n",
              "      border-bottom-color: var(--fill-color);\n",
              "      border-left-color: var(--fill-color);\n",
              "    }\n",
              "    20% {\n",
              "      border-color: transparent;\n",
              "      border-left-color: var(--fill-color);\n",
              "      border-top-color: var(--fill-color);\n",
              "    }\n",
              "    30% {\n",
              "      border-color: transparent;\n",
              "      border-left-color: var(--fill-color);\n",
              "      border-top-color: var(--fill-color);\n",
              "      border-right-color: var(--fill-color);\n",
              "    }\n",
              "    40% {\n",
              "      border-color: transparent;\n",
              "      border-right-color: var(--fill-color);\n",
              "      border-top-color: var(--fill-color);\n",
              "    }\n",
              "    60% {\n",
              "      border-color: transparent;\n",
              "      border-right-color: var(--fill-color);\n",
              "    }\n",
              "    80% {\n",
              "      border-color: transparent;\n",
              "      border-right-color: var(--fill-color);\n",
              "      border-bottom-color: var(--fill-color);\n",
              "    }\n",
              "    90% {\n",
              "      border-color: transparent;\n",
              "      border-bottom-color: var(--fill-color);\n",
              "    }\n",
              "  }\n",
              "</style>\n",
              "\n",
              "  <script>\n",
              "    async function quickchart(key) {\n",
              "      const quickchartButtonEl =\n",
              "        document.querySelector('#' + key + ' button');\n",
              "      quickchartButtonEl.disabled = true;  // To prevent multiple clicks.\n",
              "      quickchartButtonEl.classList.add('colab-df-spinner');\n",
              "      try {\n",
              "        const charts = await google.colab.kernel.invokeFunction(\n",
              "            'suggestCharts', [key], {});\n",
              "      } catch (error) {\n",
              "        console.error('Error during call to suggestCharts:', error);\n",
              "      }\n",
              "      quickchartButtonEl.classList.remove('colab-df-spinner');\n",
              "      quickchartButtonEl.classList.add('colab-df-quickchart-complete');\n",
              "    }\n",
              "    (() => {\n",
              "      let quickchartButtonEl =\n",
              "        document.querySelector('#df-9e90a10b-e1b6-4a87-a50e-7eede39db052 button');\n",
              "      quickchartButtonEl.style.display =\n",
              "        google.colab.kernel.accessAllowed ? 'block' : 'none';\n",
              "    })();\n",
              "  </script>\n",
              "</div>\n",
              "    </div>\n",
              "  </div>\n"
            ],
            "application/vnd.google.colaboratory.intrinsic+json": {
              "type": "dataframe",
              "variable_name": "null",
              "summary": "{\n  \"name\": \"null\",\n  \"rows\": 56,\n  \"fields\": [\n    {\n      \"column\": \"feature\",\n      \"properties\": {\n        \"dtype\": \"string\",\n        \"num_unique_values\": 56,\n        \"samples\": [\n          \"Abscess_Location\",\n          \"Perfusion\",\n          \"Hemoglobin\"\n        ],\n        \"semantic_type\": \"\",\n        \"description\": \"\"\n      }\n    },\n    {\n      \"column\": \"null_percentage\",\n      \"properties\": {\n        \"dtype\": \"number\",\n        \"std\": 39.44981326597705,\n        \"min\": 0.0,\n        \"max\": 98.33333333333333,\n        \"num_unique_values\": 46,\n        \"samples\": [\n          0.7692307692307693,\n          6.41025641025641,\n          6.153846153846154\n        ],\n        \"semantic_type\": \"\",\n        \"description\": \"\"\n      }\n    }\n  ]\n}"
            }
          },
          "metadata": {},
          "execution_count": 1125
        }
      ]
    },
    {
      "cell_type": "markdown",
      "source": [
        "Подробно будем рассматривать признаки с пропусками > 10 %"
      ],
      "metadata": {
        "id": "uaLHVpeqwWeM"
      }
    },
    {
      "cell_type": "code",
      "source": [
        "# список колонок для удаления\n",
        "for_drop = []"
      ],
      "metadata": {
        "id": "xtp2Y43ZU-AQ"
      },
      "execution_count": null,
      "outputs": []
    },
    {
      "cell_type": "markdown",
      "source": [
        "Признак Abscess_Location (локация абсцесса) заполнен всего 13-ю строками со значениями (Douglas, retrovesikal, rechter Unterbauch, perityphlitisch, an den M. psoas rechts). Признак неинформативен."
      ],
      "metadata": {
        "id": "RNuB0HGBUBoC"
      }
    },
    {
      "cell_type": "code",
      "source": [
        "for_drop.append('Abscess_Location')"
      ],
      "metadata": {
        "id": "IZnBd6ZTf4o4"
      },
      "execution_count": null,
      "outputs": []
    },
    {
      "cell_type": "markdown",
      "source": [
        "Признак Gynecological Findings (уточнения по геникологии) заполнен 26-ю строками. У половины из списка найдены кисты яичников. Слишком мало для информативности."
      ],
      "metadata": {
        "id": "7Z6EksZMXJm_"
      }
    },
    {
      "cell_type": "code",
      "source": [
        "for_drop.append('Gynecological_Findings')"
      ],
      "metadata": {
        "id": "DiRgD8DVf4kd"
      },
      "execution_count": null,
      "outputs": []
    },
    {
      "cell_type": "markdown",
      "source": [
        "Признак Conglomerate_of_Bowel_Loops (конгломерат кишечника) заполнен на 43 строчках. Значения yes, no. Неинформативен."
      ],
      "metadata": {
        "id": "CnniKGNJYrG4"
      }
    },
    {
      "cell_type": "code",
      "source": [
        "for_drop.append('Conglomerate_of_Bowel_Loops')"
      ],
      "metadata": {
        "id": "S0E2zzx9f4ie"
      },
      "execution_count": null,
      "outputs": []
    },
    {
      "cell_type": "markdown",
      "source": [
        "Признак Segmented_Neutrophils (Сегментированные нейтрофилы)\t54 строки заполнено. Численные значения. Указывают на восполительный процесс в организме. Нет гарантии, что этот процесс - аппендицит."
      ],
      "metadata": {
        "id": "GvkZsygkhISJ"
      }
    },
    {
      "cell_type": "code",
      "source": [
        "for_drop.append('Segmented_Neutrophils')"
      ],
      "metadata": {
        "id": "h1dC4dFHf4fn"
      },
      "execution_count": null,
      "outputs": []
    },
    {
      "cell_type": "markdown",
      "source": [
        "Признак Ileus (Кишечная непроходимость) 60 строк заполнено. Значения yes, no. Кишечная непроходимость прямо не указывает на аппендицит."
      ],
      "metadata": {
        "id": "xIwodLSfh14o"
      }
    },
    {
      "cell_type": "code",
      "source": [
        "for_drop.append('Ileus')"
      ],
      "metadata": {
        "id": "16J3J2E5aVZR"
      },
      "execution_count": null,
      "outputs": []
    },
    {
      "cell_type": "markdown",
      "source": [
        "Признак Perfusion (Перфузия) -  метод подведения и пропускания крови, кровезамещающих растворов и биологически активных веществ через сосудистую систему органов и тканей организма. 63 значения. Хоть этот метод проводится на аппендиксе и у 61 из 63 пациентов диагностирован аппендицит, все равно 63 значения из 782 это очень мало. Замену на моду считаю неправильной."
      ],
      "metadata": {
        "id": "f0qWfv_rjEvz"
      }
    },
    {
      "cell_type": "code",
      "source": [
        "for_drop.append('Perfusion')"
      ],
      "metadata": {
        "id": "6FYcJaeuh214"
      },
      "execution_count": null,
      "outputs": []
    },
    {
      "cell_type": "markdown",
      "source": [
        "Признак Enteritis (воспаление в области тонкого кишечника). Аппендикс является частью слепой кишки, не тонкого кишечника."
      ],
      "metadata": {
        "id": "rY0SmasYoZ9j"
      }
    },
    {
      "cell_type": "code",
      "source": [
        "for_drop.append('Enteritis')"
      ],
      "metadata": {
        "id": "Sg3Fb47mh2zs"
      },
      "execution_count": null,
      "outputs": []
    },
    {
      "cell_type": "markdown",
      "source": [
        "Признак Appendicolith (Аппендиколит) это образование, которое формируется из-за кальцифицированных отложений в аппендиксе, состоящих из плотных каловых масс и иногда минеральных отложений 69 значений. Признак является прямым предшественником аппендицита."
      ],
      "metadata": {
        "id": "Bq_E_TpxpPqr"
      }
    },
    {
      "cell_type": "code",
      "source": [
        "df_colith = df[df['Appendicolith'] == 'yes']"
      ],
      "metadata": {
        "id": "YR13vap0h2xV"
      },
      "execution_count": null,
      "outputs": []
    },
    {
      "cell_type": "code",
      "source": [
        "df_colith['Diagnosis']"
      ],
      "metadata": {
        "colab": {
          "base_uri": "https://localhost:8080/"
        },
        "id": "TRfWDA97h2vo",
        "outputId": "bad1cc7c-638c-4085-d506-63259e555926"
      },
      "execution_count": null,
      "outputs": [
        {
          "output_type": "execute_result",
          "data": {
            "text/plain": [
              "39     appendicitis\n",
              "74     appendicitis\n",
              "347    appendicitis\n",
              "488    appendicitis\n",
              "492    appendicitis\n",
              "513    appendicitis\n",
              "521    appendicitis\n",
              "533    appendicitis\n",
              "534    appendicitis\n",
              "538    appendicitis\n",
              "548    appendicitis\n",
              "553    appendicitis\n",
              "554    appendicitis\n",
              "563    appendicitis\n",
              "568    appendicitis\n",
              "574    appendicitis\n",
              "586    appendicitis\n",
              "589    appendicitis\n",
              "590    appendicitis\n",
              "593    appendicitis\n",
              "599    appendicitis\n",
              "607    appendicitis\n",
              "612    appendicitis\n",
              "622    appendicitis\n",
              "651    appendicitis\n",
              "670    appendicitis\n",
              "685    appendicitis\n",
              "697    appendicitis\n",
              "720    appendicitis\n",
              "722    appendicitis\n",
              "755    appendicitis\n",
              "759    appendicitis\n",
              "763    appendicitis\n",
              "Name: Diagnosis, dtype: object"
            ]
          },
          "metadata": {},
          "execution_count": 1135
        }
      ]
    },
    {
      "cell_type": "markdown",
      "source": [
        "Считаю, что если у пациента диагноституется Аппендиколит, то этот факт обязательно указывается в истории болезни. Значит, пропуски заполняем значением 'no'."
      ],
      "metadata": {
        "id": "1IH-xh7osTxY"
      }
    },
    {
      "cell_type": "code",
      "source": [
        "df['Appendicolith'].fillna('no', inplace=True)"
      ],
      "metadata": {
        "id": "fnjzaMmVh2s9"
      },
      "execution_count": null,
      "outputs": []
    },
    {
      "cell_type": "code",
      "source": [
        "df['Appendicolith'].value_counts()"
      ],
      "metadata": {
        "colab": {
          "base_uri": "https://localhost:8080/"
        },
        "id": "-Nhyz6gAh2rF",
        "outputId": "bddb650f-9a4c-4204-c59a-6f5278b0f76b"
      },
      "execution_count": null,
      "outputs": [
        {
          "output_type": "execute_result",
          "data": {
            "text/plain": [
              "Appendicolith\n",
              "no           744\n",
              "yes           33\n",
              "suspected      3\n",
              "Name: count, dtype: int64"
            ]
          },
          "metadata": {},
          "execution_count": 1137
        }
      ]
    },
    {
      "cell_type": "markdown",
      "source": [
        "Признак Coprostasis (Скопление каловых масс в толстой кишке кишечник)."
      ],
      "metadata": {
        "id": "7MwB1lWyvLiy"
      }
    },
    {
      "cell_type": "code",
      "source": [
        "df_copro = df[df['Coprostasis'] == 'yes']"
      ],
      "metadata": {
        "id": "3Pu0LX-4h2oz"
      },
      "execution_count": null,
      "outputs": []
    },
    {
      "cell_type": "code",
      "source": [
        "df_copro['Diagnosis']"
      ],
      "metadata": {
        "colab": {
          "base_uri": "https://localhost:8080/"
        },
        "id": "JIoiXKDSh2md",
        "outputId": "ac1276c0-038e-4baa-9ee0-dd069013d61a"
      },
      "execution_count": null,
      "outputs": [
        {
          "output_type": "execute_result",
          "data": {
            "text/plain": [
              "22     no appendicitis\n",
              "29        appendicitis\n",
              "40        appendicitis\n",
              "46     no appendicitis\n",
              "66     no appendicitis\n",
              "67     no appendicitis\n",
              "101    no appendicitis\n",
              "104       appendicitis\n",
              "141    no appendicitis\n",
              "183       appendicitis\n",
              "214    no appendicitis\n",
              "224    no appendicitis\n",
              "253       appendicitis\n",
              "256       appendicitis\n",
              "260    no appendicitis\n",
              "281    no appendicitis\n",
              "283       appendicitis\n",
              "286    no appendicitis\n",
              "288    no appendicitis\n",
              "311    no appendicitis\n",
              "317    no appendicitis\n",
              "344    no appendicitis\n",
              "354    no appendicitis\n",
              "356    no appendicitis\n",
              "410    no appendicitis\n",
              "434       appendicitis\n",
              "445    no appendicitis\n",
              "449    no appendicitis\n",
              "463    no appendicitis\n",
              "465    no appendicitis\n",
              "470    no appendicitis\n",
              "475       appendicitis\n",
              "485       appendicitis\n",
              "523       appendicitis\n",
              "547       appendicitis\n",
              "560       appendicitis\n",
              "571       appendicitis\n",
              "594       appendicitis\n",
              "633       appendicitis\n",
              "637       appendicitis\n",
              "650       appendicitis\n",
              "651       appendicitis\n",
              "672       appendicitis\n",
              "694       appendicitis\n",
              "696       appendicitis\n",
              "738       appendicitis\n",
              "Name: Diagnosis, dtype: object"
            ]
          },
          "metadata": {},
          "execution_count": 1139
        }
      ]
    },
    {
      "cell_type": "markdown",
      "source": [
        "Считаю, что признак неинформативен, прямой зависимости с таргетом нет."
      ],
      "metadata": {
        "id": "deHbTT3vv_Sa"
      }
    },
    {
      "cell_type": "code",
      "source": [
        "for_drop.append('Coprostasis')"
      ],
      "metadata": {
        "id": "78VDqiNeh2jy"
      },
      "execution_count": null,
      "outputs": []
    },
    {
      "cell_type": "markdown",
      "source": [
        "Признак Perforation (Признаки перфорации аппендикса при УЗИ)"
      ],
      "metadata": {
        "id": "1k8EFMWwxIcZ"
      }
    },
    {
      "cell_type": "code",
      "source": [
        "df_per = df[df['Perforation'] == 'yes']\n",
        "df_per['Diagnosis']"
      ],
      "metadata": {
        "colab": {
          "base_uri": "https://localhost:8080/"
        },
        "id": "d5axmdurwR0c",
        "outputId": "94619259-b95a-4e23-fb92-1d25c272dee9"
      },
      "execution_count": null,
      "outputs": [
        {
          "output_type": "execute_result",
          "data": {
            "text/plain": [
              "500    appendicitis\n",
              "522    appendicitis\n",
              "529    appendicitis\n",
              "536    appendicitis\n",
              "543    appendicitis\n",
              "547    appendicitis\n",
              "550    appendicitis\n",
              "553    appendicitis\n",
              "560    appendicitis\n",
              "561    appendicitis\n",
              "562    appendicitis\n",
              "563    appendicitis\n",
              "565    appendicitis\n",
              "569    appendicitis\n",
              "582    appendicitis\n",
              "607    appendicitis\n",
              "615    appendicitis\n",
              "630    appendicitis\n",
              "640    appendicitis\n",
              "647    appendicitis\n",
              "649    appendicitis\n",
              "650    appendicitis\n",
              "651    appendicitis\n",
              "655    appendicitis\n",
              "667    appendicitis\n",
              "670    appendicitis\n",
              "743    appendicitis\n",
              "744    appendicitis\n",
              "753    appendicitis\n",
              "Name: Diagnosis, dtype: object"
            ]
          },
          "metadata": {},
          "execution_count": 1141
        }
      ]
    },
    {
      "cell_type": "code",
      "source": [
        "df_per = df[df['Perforation'] == 'no']\n",
        "df_per['Diagnosis']"
      ],
      "metadata": {
        "colab": {
          "base_uri": "https://localhost:8080/"
        },
        "id": "v0W9IHalwRyV",
        "outputId": "2e7b5bb3-2d92-406c-ca25-490d72b4bafa"
      },
      "execution_count": null,
      "outputs": [
        {
          "output_type": "execute_result",
          "data": {
            "text/plain": [
              "0         appendicitis\n",
              "15     no appendicitis\n",
              "47        appendicitis\n",
              "50        appendicitis\n",
              "51     no appendicitis\n",
              "67     no appendicitis\n",
              "121       appendicitis\n",
              "127       appendicitis\n",
              "129       appendicitis\n",
              "138       appendicitis\n",
              "150    no appendicitis\n",
              "164       appendicitis\n",
              "245       appendicitis\n",
              "334       appendicitis\n",
              "398       appendicitis\n",
              "492       appendicitis\n",
              "513       appendicitis\n",
              "555       appendicitis\n",
              "576       appendicitis\n",
              "618       appendicitis\n",
              "623       appendicitis\n",
              "625       appendicitis\n",
              "733       appendicitis\n",
              "734       appendicitis\n",
              "735       appendicitis\n",
              "736       appendicitis\n",
              "737       appendicitis\n",
              "738       appendicitis\n",
              "739       appendicitis\n",
              "745       appendicitis\n",
              "746       appendicitis\n",
              "747       appendicitis\n",
              "749       appendicitis\n",
              "768       appendicitis\n",
              "Name: Diagnosis, dtype: object"
            ]
          },
          "metadata": {},
          "execution_count": 1142
        }
      ]
    },
    {
      "cell_type": "code",
      "source": [
        "df.groupby('Perforation')['Diagnosis'].value_counts()"
      ],
      "metadata": {
        "colab": {
          "base_uri": "https://localhost:8080/"
        },
        "id": "VYXEkwegwRwH",
        "outputId": "7ce4f8d1-d96f-44b5-838e-2daadb6aa1c3"
      },
      "execution_count": null,
      "outputs": [
        {
          "output_type": "execute_result",
          "data": {
            "text/plain": [
              "Perforation   Diagnosis      \n",
              "no            appendicitis       30\n",
              "              no appendicitis     4\n",
              "not excluded  appendicitis       15\n",
              "suspected     appendicitis        2\n",
              "              no appendicitis     1\n",
              "yes           appendicitis       29\n",
              "Name: count, dtype: int64"
            ]
          },
          "metadata": {},
          "execution_count": 1143
        }
      ]
    },
    {
      "cell_type": "markdown",
      "source": [
        "Перфорация аппендикса прямое следствие аппендицита. Удалять колонку нельзя. Практически все заполненные значения признака Перфорации относятся к диагнозу аппендицит. Пропуски заполняем значением suspected, у которого более сбалансированы варианты диагноза."
      ],
      "metadata": {
        "id": "1SP_vffH1eNa"
      }
    },
    {
      "cell_type": "code",
      "source": [
        "df['Perforation'].fillna('suspected', inplace=True)"
      ],
      "metadata": {
        "id": "6q8HBx4CwRtw"
      },
      "execution_count": null,
      "outputs": []
    },
    {
      "cell_type": "code",
      "source": [
        "df['Perforation'].value_counts()"
      ],
      "metadata": {
        "colab": {
          "base_uri": "https://localhost:8080/"
        },
        "id": "lGQqypS4wRrw",
        "outputId": "3bd82385-e26e-4c69-b390-85f76d1fc8f8"
      },
      "execution_count": null,
      "outputs": [
        {
          "output_type": "execute_result",
          "data": {
            "text/plain": [
              "Perforation\n",
              "suspected       702\n",
              "no               34\n",
              "yes              29\n",
              "not excluded     15\n",
              "Name: count, dtype: int64"
            ]
          },
          "metadata": {},
          "execution_count": 1145
        }
      ]
    },
    {
      "cell_type": "markdown",
      "source": [
        "Признак Appendicular_Abscess (Аппендикулярный абсцесс) - осложнение острого аппендицита."
      ],
      "metadata": {
        "id": "C6zIjxV_5afZ"
      }
    },
    {
      "cell_type": "code",
      "source": [
        "df_app = df[df['Appendicular_Abscess'] == 'no']\n",
        "df_app['Diagnosis']"
      ],
      "metadata": {
        "colab": {
          "base_uri": "https://localhost:8080/"
        },
        "id": "QWK6s2vKwRpJ",
        "outputId": "27b49d9e-bff2-40b1-ec36-a9f89eb3494a"
      },
      "execution_count": null,
      "outputs": [
        {
          "output_type": "execute_result",
          "data": {
            "text/plain": [
              "0         appendicitis\n",
              "15     no appendicitis\n",
              "37     no appendicitis\n",
              "41        appendicitis\n",
              "78        appendicitis\n",
              "            ...       \n",
              "757       appendicitis\n",
              "766       appendicitis\n",
              "768       appendicitis\n",
              "772       appendicitis\n",
              "781       appendicitis\n",
              "Name: Diagnosis, Length: 65, dtype: object"
            ]
          },
          "metadata": {},
          "execution_count": 1146
        }
      ]
    },
    {
      "cell_type": "code",
      "source": [
        "df.groupby('Appendicular_Abscess')['Diagnosis'].value_counts()"
      ],
      "metadata": {
        "colab": {
          "base_uri": "https://localhost:8080/"
        },
        "id": "0Wx4aLB03fZg",
        "outputId": "ffb1bf6c-b836-45a5-febf-3bb5dea721c4"
      },
      "execution_count": null,
      "outputs": [
        {
          "output_type": "execute_result",
          "data": {
            "text/plain": [
              "Appendicular_Abscess  Diagnosis      \n",
              "no                    appendicitis       56\n",
              "                      no appendicitis     9\n",
              "suspected             appendicitis        1\n",
              "yes                   appendicitis       19\n",
              "Name: count, dtype: int64"
            ]
          },
          "metadata": {},
          "execution_count": 1147
        }
      ]
    },
    {
      "cell_type": "markdown",
      "source": [
        "Признак Appendicular_Abscess не следует удалять, так как он является следствием аппендицита. Заменим пропуски значением 'not excluded' (не исключено), которое не нарушит баланс признака и сохранит связь с таргетом.\n"
      ],
      "metadata": {
        "id": "DshRXLP969hd"
      }
    },
    {
      "cell_type": "code",
      "source": [
        "df['Appendicular_Abscess'].fillna('not excluded', inplace=True)\n",
        "df['Appendicular_Abscess'].value_counts()"
      ],
      "metadata": {
        "colab": {
          "base_uri": "https://localhost:8080/"
        },
        "id": "vziPIvJd3fUM",
        "outputId": "469380fc-893c-4aec-e8e8-1d000be957a9"
      },
      "execution_count": null,
      "outputs": [
        {
          "output_type": "execute_result",
          "data": {
            "text/plain": [
              "Appendicular_Abscess\n",
              "not excluded    695\n",
              "no               65\n",
              "yes              19\n",
              "suspected         1\n",
              "Name: count, dtype: int64"
            ]
          },
          "metadata": {},
          "execution_count": 1148
        }
      ]
    },
    {
      "cell_type": "markdown",
      "source": [
        "Признак Bowel_Wall_Thickening (Утолщение внутренней стенки кишечника). 99 значений заполнено. Удаляем."
      ],
      "metadata": {
        "id": "FN6h9Hi2WzKi"
      }
    },
    {
      "cell_type": "code",
      "source": [
        "for_drop.append('Bowel_Wall_Thickening')"
      ],
      "metadata": {
        "id": "cgMeyDXd3fRx"
      },
      "execution_count": null,
      "outputs": []
    },
    {
      "cell_type": "markdown",
      "source": [
        "Признак Lymph_Nodes_Location (Расположение лимфатических узлов)"
      ],
      "metadata": {
        "id": "tJWVBtWEYruJ"
      }
    },
    {
      "cell_type": "code",
      "source": [
        "df.groupby('Lymph_Nodes_Location')['Diagnosis'].value_counts()"
      ],
      "metadata": {
        "colab": {
          "base_uri": "https://localhost:8080/"
        },
        "id": "LmqYs5DdWtle",
        "outputId": "dab7e8b2-c29d-4df3-ca98-af8c7992f2fc"
      },
      "execution_count": null,
      "outputs": [
        {
          "output_type": "execute_result",
          "data": {
            "text/plain": [
              "Lymph_Nodes_Location            Diagnosis      \n",
              "Ileozökal                       appendicitis        1\n",
              "Lymphadenopathie                appendicitis        1\n",
              "MB                              no appendicitis     2\n",
              "Mesenterial, links inguinal     appendicitis        1\n",
              "Ovarialzysten                   appendicitis        1\n",
              "UB                              no appendicitis     1\n",
              "ileocoecal                      appendicitis        2\n",
              "                                no appendicitis     1\n",
              "ileocoekal                      appendicitis        1\n",
              "ileocöcal                       appendicitis        2\n",
              "inguinal                        appendicitis        1\n",
              "lokal um die Appendix           appendicitis        1\n",
              "mesenterial                     no appendicitis    29\n",
              "                                appendicitis        8\n",
              "mesenterial, re UB              appendicitis        1\n",
              "multiple Lokalisationen         appendicitis        1\n",
              "periappendikulär                appendicitis        1\n",
              "periumbilikal                   no appendicitis     1\n",
              "re MB                           no appendicitis     2\n",
              "                                appendicitis        1\n",
              "re UB                           no appendicitis    15\n",
              "                                appendicitis        7\n",
              "re UB                           no appendicitis     1\n",
              "                                appendicitis        1\n",
              "re UB                           appendicitis        1\n",
              "re UB, ileocoecal               appendicitis        1\n",
              "re UB, periumbilikal            appendicitis        1\n",
              "re UB, re MB                    no appendicitis     1\n",
              "reUB                            no appendicitis     8\n",
              "                                appendicitis        4\n",
              "rechter Unter- und Mittelbauch  appendicitis        1\n",
              "                                no appendicitis     1\n",
              "rechter Unterbauch              appendicitis       20\n",
              "Name: count, dtype: int64"
            ]
          },
          "metadata": {},
          "execution_count": 1150
        }
      ]
    },
    {
      "cell_type": "markdown",
      "source": [
        "По распределению диагноза по группам локации лимфоузлов видно, что в большинстве случаев пациенты с аппендицитом имеют увеличенные узлы \"rechter Unterbauch\", а без аппендицита - 'mesenterial'. Заполним пропуски таким образом."
      ],
      "metadata": {
        "id": "RWdWMZUXaK44"
      }
    },
    {
      "cell_type": "code",
      "source": [
        "df.loc[(df['Lymph_Nodes_Location'].isna()) & (df['Diagnosis'] == 'appendicitis'), 'Lymph_Nodes_Location'] = 'rechter Unterbauch'\n",
        "df.loc[(df['Lymph_Nodes_Location'].isna()) & (df['Diagnosis'] == 'no appendicitis'), 'Lymph_Nodes_Location'] = 'mesenterial'\n",
        "df['Lymph_Nodes_Location'].value_counts()"
      ],
      "metadata": {
        "colab": {
          "base_uri": "https://localhost:8080/"
        },
        "id": "Or1XgOu0WthL",
        "outputId": "459bd7e8-f381-48a9-8205-df10d9d26f68"
      },
      "execution_count": null,
      "outputs": [
        {
          "output_type": "execute_result",
          "data": {
            "text/plain": [
              "Lymph_Nodes_Location\n",
              "rechter Unterbauch                424\n",
              "mesenterial                       292\n",
              "re UB                              22\n",
              "reUB                               12\n",
              "re MB                               3\n",
              "ileocoecal                          3\n",
              "re UB                               2\n",
              "rechter Unter- und Mittelbauch      2\n",
              "ileocöcal                           2\n",
              "MB                                  2\n",
              "inguinal                            1\n",
              "lokal um die Appendix               1\n",
              "multiple Lokalisationen             1\n",
              "Mesenterial, links inguinal         1\n",
              "Lymphadenopathie                    1\n",
              "periappendikulär                    1\n",
              "Ileozökal                           1\n",
              "periumbilikal                       1\n",
              "re UB, re MB                        1\n",
              "UB                                  1\n",
              "re UB, ileocoecal                   1\n",
              "re UB                               1\n",
              "re UB, periumbilikal                1\n",
              "mesenterial, re UB                  1\n",
              "ileocoekal                          1\n",
              "Ovarialzysten                       1\n",
              "Name: count, dtype: int64"
            ]
          },
          "metadata": {},
          "execution_count": 1151
        }
      ]
    },
    {
      "cell_type": "markdown",
      "source": [
        "Признак Target_Sign (Аксиальное изображение аппендикса с заполненным жидкостью центром, окруженным эхогенной и подслизистой оболочкой и гипоэхогенной мускулатурой). 138 значений заполнено."
      ],
      "metadata": {
        "id": "GsU0O2n8cdNG"
      }
    },
    {
      "cell_type": "code",
      "source": [
        "df.groupby('Target_Sign')['Diagnosis'].value_counts()"
      ],
      "metadata": {
        "colab": {
          "base_uri": "https://localhost:8080/"
        },
        "id": "INjvZ9aSWtfG",
        "outputId": "3c00f593-fd56-454f-ba9d-87737ba467e6"
      },
      "execution_count": null,
      "outputs": [
        {
          "output_type": "execute_result",
          "data": {
            "text/plain": [
              "Target_Sign  Diagnosis      \n",
              "no           no appendicitis    26\n",
              "             appendicitis       25\n",
              "yes          appendicitis       82\n",
              "             no appendicitis     5\n",
              "Name: count, dtype: int64"
            ]
          },
          "metadata": {},
          "execution_count": 1152
        }
      ]
    },
    {
      "cell_type": "markdown",
      "source": [
        "Заменим пропуски Target_Sign в зависимости от Diagnosis: appendicitis - yes, no appendicitis - not excluded."
      ],
      "metadata": {
        "id": "SIMa271mdyFu"
      }
    },
    {
      "cell_type": "code",
      "source": [
        "df.loc[(df['Target_Sign'].isna()) & (df['Diagnosis'] == 'appendicitis'), 'Target_Sign'] = 'yes'\n",
        "df.loc[(df['Target_Sign'].isna()) & (df['Diagnosis'] == 'no appendicitis'), 'Target_Sign'] = 'not excluded'\n",
        "df['Target_Sign'].value_counts()"
      ],
      "metadata": {
        "colab": {
          "base_uri": "https://localhost:8080/"
        },
        "id": "y4hGZCvyWtcz",
        "outputId": "131863a4-caab-4b0e-b24f-55f570184eb7"
      },
      "execution_count": null,
      "outputs": [
        {
          "output_type": "execute_result",
          "data": {
            "text/plain": [
              "Target_Sign\n",
              "yes             443\n",
              "not excluded    286\n",
              "no               51\n",
              "Name: count, dtype: int64"
            ]
          },
          "metadata": {},
          "execution_count": 1153
        }
      ]
    },
    {
      "cell_type": "markdown",
      "source": [
        "Признак Meteorism."
      ],
      "metadata": {
        "id": "ha4rihCmg01x"
      }
    },
    {
      "cell_type": "code",
      "source": [
        "df.groupby('Meteorism')['Diagnosis'].value_counts()"
      ],
      "metadata": {
        "colab": {
          "base_uri": "https://localhost:8080/"
        },
        "id": "F65o4euZ3fO3",
        "outputId": "d9593009-ca87-4b78-dcce-3b9a059dc149"
      },
      "execution_count": null,
      "outputs": [
        {
          "output_type": "execute_result",
          "data": {
            "text/plain": [
              "Meteorism  Diagnosis      \n",
              "no         appendicitis       11\n",
              "yes        no appendicitis    70\n",
              "           appendicitis       59\n",
              "Name: count, dtype: int64"
            ]
          },
          "metadata": {},
          "execution_count": 1154
        }
      ]
    },
    {
      "cell_type": "markdown",
      "source": [
        "Признак удаляем."
      ],
      "metadata": {
        "id": "p9EH-Dd1hOBm"
      }
    },
    {
      "cell_type": "code",
      "source": [
        "for_drop.append('Meteorism')"
      ],
      "metadata": {
        "id": "aC413WH8hQxK"
      },
      "execution_count": null,
      "outputs": []
    },
    {
      "cell_type": "markdown",
      "source": [
        "Признак Pathological_Lymph_Nodes (Увеличенные и воспаленные внутрибрюшные лимфатические узлы)"
      ],
      "metadata": {
        "id": "SqqJfafqhYqB"
      }
    },
    {
      "cell_type": "code",
      "source": [
        "df.groupby('Pathological_Lymph_Nodes')['Diagnosis'].value_counts()"
      ],
      "metadata": {
        "colab": {
          "base_uri": "https://localhost:8080/"
        },
        "id": "l81NAZ7ChRGm",
        "outputId": "aae9d44a-1018-4f90-973f-646e60ba453c"
      },
      "execution_count": null,
      "outputs": [
        {
          "output_type": "execute_result",
          "data": {
            "text/plain": [
              "Pathological_Lymph_Nodes  Diagnosis      \n",
              "no                        appendicitis       29\n",
              "                          no appendicitis    20\n",
              "yes                       appendicitis       82\n",
              "                          no appendicitis    72\n",
              "Name: count, dtype: int64"
            ]
          },
          "metadata": {},
          "execution_count": 1156
        }
      ]
    },
    {
      "cell_type": "markdown",
      "source": [
        "Неинформативный признак. Удаляем."
      ],
      "metadata": {
        "id": "v0g1pY1nh1XH"
      }
    },
    {
      "cell_type": "code",
      "source": [
        "for_drop.append('Pathological_Lymph_Nodes')"
      ],
      "metadata": {
        "id": "XCKyu8uJhREu"
      },
      "execution_count": null,
      "outputs": []
    },
    {
      "cell_type": "markdown",
      "source": [
        "Признак Appendix_Wall_Layers (Распределение и характеристики слоев аппендикса, например, неравномерность при нарастающем воспалении)"
      ],
      "metadata": {
        "id": "5LzgypBYiBuG"
      }
    },
    {
      "cell_type": "code",
      "source": [
        "df.groupby('Appendix_Wall_Layers')['Diagnosis'].value_counts()"
      ],
      "metadata": {
        "colab": {
          "base_uri": "https://localhost:8080/"
        },
        "id": "s1LzNs70hRC-",
        "outputId": "7ab592e3-2c37-4e7b-ae5f-a72cf70898a3"
      },
      "execution_count": null,
      "outputs": [
        {
          "output_type": "execute_result",
          "data": {
            "text/plain": [
              "Appendix_Wall_Layers  Diagnosis      \n",
              "intact                appendicitis       102\n",
              "                      no appendicitis     30\n",
              "partially raised      appendicitis         9\n",
              "raised                appendicitis        73\n",
              "                      no appendicitis      3\n",
              "upset                 appendicitis         1\n",
              "Name: count, dtype: int64"
            ]
          },
          "metadata": {},
          "execution_count": 1158
        }
      ]
    },
    {
      "cell_type": "markdown",
      "source": [
        "Заменим пропуски на признак intact (неповрежденный). Распределение диагноза по этому признаку ~ 1/3"
      ],
      "metadata": {
        "id": "4hsyLYi9jAcj"
      }
    },
    {
      "cell_type": "code",
      "source": [
        "df['Appendix_Wall_Layers'].fillna('intact', inplace=True)\n",
        "df['Appendix_Wall_Layers'].value_counts()"
      ],
      "metadata": {
        "colab": {
          "base_uri": "https://localhost:8080/"
        },
        "id": "GreF79-ehRAS",
        "outputId": "cb58811c-5019-48d7-91c6-3e4cb1a821a8"
      },
      "execution_count": null,
      "outputs": [
        {
          "output_type": "execute_result",
          "data": {
            "text/plain": [
              "Appendix_Wall_Layers\n",
              "intact              694\n",
              "raised               76\n",
              "partially raised      9\n",
              "upset                 1\n",
              "Name: count, dtype: int64"
            ]
          },
          "metadata": {},
          "execution_count": 1159
        }
      ]
    },
    {
      "cell_type": "markdown",
      "source": [
        "Признак Surrounding_Tissue_Reaction (Признаки воспаления в тканях (в т.ч. в сальнике/жировой ткани), окружающих аппендикс)"
      ],
      "metadata": {
        "id": "VlZ8JwWAj_YB"
      }
    },
    {
      "cell_type": "code",
      "source": [
        "df.groupby('Surrounding_Tissue_Reaction')['Diagnosis'].value_counts()"
      ],
      "metadata": {
        "colab": {
          "base_uri": "https://localhost:8080/"
        },
        "id": "YcLqeIZDgp-b",
        "outputId": "03699ee9-b207-4d91-b3a5-58d60a5719be"
      },
      "execution_count": null,
      "outputs": [
        {
          "output_type": "execute_result",
          "data": {
            "text/plain": [
              "Surrounding_Tissue_Reaction  Diagnosis      \n",
              "no                           appendicitis        28\n",
              "                             no appendicitis     16\n",
              "yes                          appendicitis       196\n",
              "                             no appendicitis     12\n",
              "Name: count, dtype: int64"
            ]
          },
          "metadata": {},
          "execution_count": 1160
        }
      ]
    },
    {
      "cell_type": "markdown",
      "source": [
        "Чтобы исключить ошибку второго рода (пропустить аппендицит там, где он есть) заменим пропуски на yes."
      ],
      "metadata": {
        "id": "OIWIr3ZIkxIC"
      }
    },
    {
      "cell_type": "code",
      "source": [
        "df['Surrounding_Tissue_Reaction'].fillna('yes', inplace=True)\n",
        "df['Surrounding_Tissue_Reaction'].value_counts()"
      ],
      "metadata": {
        "colab": {
          "base_uri": "https://localhost:8080/"
        },
        "id": "jW48Dme0gp7-",
        "outputId": "397580d5-cf40-4b01-8d3c-81edd2795bae"
      },
      "execution_count": null,
      "outputs": [
        {
          "output_type": "execute_result",
          "data": {
            "text/plain": [
              "Surrounding_Tissue_Reaction\n",
              "yes    736\n",
              "no      44\n",
              "Name: count, dtype: int64"
            ]
          },
          "metadata": {},
          "execution_count": 1161
        }
      ]
    },
    {
      "cell_type": "markdown",
      "source": [
        "Признак Appendix_Diameter (Максимальный наружный диаметр аппендикса)"
      ],
      "metadata": {
        "id": "7N2tXQgzlkps"
      }
    },
    {
      "cell_type": "code",
      "source": [
        "df.groupby('Appendix_Diameter')['Diagnosis'].value_counts()"
      ],
      "metadata": {
        "colab": {
          "base_uri": "https://localhost:8080/"
        },
        "id": "RdoWIouXgp5R",
        "outputId": "f6ffeb78-7210-4668-88a2-302fc270eb9a"
      },
      "execution_count": null,
      "outputs": [
        {
          "output_type": "execute_result",
          "data": {
            "text/plain": [
              "Appendix_Diameter  Diagnosis      \n",
              "2.7                no appendicitis    1\n",
              "2.9                no appendicitis    1\n",
              "3.0                no appendicitis    2\n",
              "3.2                no appendicitis    1\n",
              "3.5                no appendicitis    5\n",
              "                                     ..\n",
              "13.0               appendicitis       8\n",
              "13.2               appendicitis       1\n",
              "14.0               appendicitis       5\n",
              "15.0               appendicitis       4\n",
              "17.0               appendicitis       1\n",
              "Name: count, Length: 95, dtype: int64"
            ]
          },
          "metadata": {},
          "execution_count": 1162
        }
      ]
    },
    {
      "cell_type": "markdown",
      "source": [
        "Порог 6 мм. Заменим медианой."
      ],
      "metadata": {
        "id": "Vz4EbnBBmxAy"
      }
    },
    {
      "cell_type": "code",
      "source": [
        "median_value = df['Appendix_Diameter'].median()\n",
        "df['Appendix_Diameter'].fillna(median_value, inplace=True)\n",
        "df['Appendix_Diameter'].value_counts()"
      ],
      "metadata": {
        "colab": {
          "base_uri": "https://localhost:8080/"
        },
        "id": "CTLct853gp2I",
        "outputId": "8881e126-b78f-4fdf-80ed-359327b8bbc0"
      },
      "execution_count": null,
      "outputs": [
        {
          "output_type": "execute_result",
          "data": {
            "text/plain": [
              "Appendix_Diameter\n",
              "7.5     292\n",
              "8.0      47\n",
              "9.0      46\n",
              "7.0      43\n",
              "6.0      42\n",
              "       ... \n",
              "9.6       1\n",
              "5.7       1\n",
              "8.4       1\n",
              "9.3       1\n",
              "10.9      1\n",
              "Name: count, Length: 78, dtype: int64"
            ]
          },
          "metadata": {},
          "execution_count": 1163
        }
      ]
    },
    {
      "cell_type": "markdown",
      "source": [
        "Признак RBC_in_Urine (Количество эритроцитов в единице объема мочи)"
      ],
      "metadata": {
        "id": "rG7zRKqmqFdB"
      }
    },
    {
      "cell_type": "code",
      "source": [
        "df.groupby('RBC_in_Urine')['Diagnosis'].value_counts()"
      ],
      "metadata": {
        "colab": {
          "base_uri": "https://localhost:8080/"
        },
        "id": "L_Z8PGkxnpbc",
        "outputId": "a97884d2-2e52-4a76-b835-41474b17a0f5"
      },
      "execution_count": null,
      "outputs": [
        {
          "output_type": "execute_result",
          "data": {
            "text/plain": [
              "RBC_in_Urine  Diagnosis      \n",
              "+             appendicitis        50\n",
              "              no appendicitis     38\n",
              "++            appendicitis         9\n",
              "              no appendicitis      7\n",
              "+++           appendicitis        20\n",
              "              no appendicitis     10\n",
              "no            appendicitis       238\n",
              "              no appendicitis    204\n",
              "Name: count, dtype: int64"
            ]
          },
          "metadata": {},
          "execution_count": 1164
        }
      ]
    },
    {
      "cell_type": "markdown",
      "source": [
        "Заменим пропуски на значение \"no\""
      ],
      "metadata": {
        "id": "n6VM-oHdrh_Z"
      }
    },
    {
      "cell_type": "code",
      "source": [
        "df['RBC_in_Urine'].fillna('no', inplace=True)\n",
        "df['RBC_in_Urine'].value_counts()"
      ],
      "metadata": {
        "colab": {
          "base_uri": "https://localhost:8080/"
        },
        "id": "rnaDN6d9npYh",
        "outputId": "c4a99cf7-8dd0-4396-f4fe-fbe95977fef2"
      },
      "execution_count": null,
      "outputs": [
        {
          "output_type": "execute_result",
          "data": {
            "text/plain": [
              "RBC_in_Urine\n",
              "no     646\n",
              "+       88\n",
              "+++     30\n",
              "++      16\n",
              "Name: count, dtype: int64"
            ]
          },
          "metadata": {},
          "execution_count": 1165
        }
      ]
    },
    {
      "cell_type": "markdown",
      "source": [
        "Признак Ketones_in_Urine (Кетоны в моче)"
      ],
      "metadata": {
        "id": "OuivCykgrztO"
      }
    },
    {
      "cell_type": "code",
      "source": [
        "df.groupby('Ketones_in_Urine')['Diagnosis'].value_counts()"
      ],
      "metadata": {
        "colab": {
          "base_uri": "https://localhost:8080/"
        },
        "id": "rg_Ul8eCnpVe",
        "outputId": "699cd283-861d-4a40-d9de-3995824b98e2"
      },
      "execution_count": null,
      "outputs": [
        {
          "output_type": "execute_result",
          "data": {
            "text/plain": [
              "Ketones_in_Urine  Diagnosis      \n",
              "+                 appendicitis        50\n",
              "                  no appendicitis     27\n",
              "++                appendicitis        29\n",
              "                  no appendicitis     20\n",
              "+++               appendicitis        86\n",
              "                  no appendicitis     38\n",
              "no                no appendicitis    179\n",
              "                  appendicitis       153\n",
              "Name: count, dtype: int64"
            ]
          },
          "metadata": {},
          "execution_count": 1166
        }
      ]
    },
    {
      "cell_type": "markdown",
      "source": [
        "Заменим пропуски на значение \"no\""
      ],
      "metadata": {
        "id": "Lz-NgjWOsVzV"
      }
    },
    {
      "cell_type": "code",
      "source": [
        "df['Ketones_in_Urine'].fillna('no', inplace=True)\n",
        "df['Ketones_in_Urine'].value_counts()"
      ],
      "metadata": {
        "colab": {
          "base_uri": "https://localhost:8080/"
        },
        "id": "OV9qjccFsGRh",
        "outputId": "d7319d02-bc2e-41db-833b-696bb0c7731d"
      },
      "execution_count": null,
      "outputs": [
        {
          "output_type": "execute_result",
          "data": {
            "text/plain": [
              "Ketones_in_Urine\n",
              "no     530\n",
              "+++    124\n",
              "+       77\n",
              "++      49\n",
              "Name: count, dtype: int64"
            ]
          },
          "metadata": {},
          "execution_count": 1167
        }
      ]
    },
    {
      "cell_type": "markdown",
      "source": [
        "Признак WBC_in_Urine (Лейкоциты в моче)"
      ],
      "metadata": {
        "id": "y2fOL1jqscof"
      }
    },
    {
      "cell_type": "code",
      "source": [
        "df.groupby('WBC_in_Urine')['Diagnosis'].value_counts()"
      ],
      "metadata": {
        "colab": {
          "base_uri": "https://localhost:8080/"
        },
        "id": "75fWNE-ysGO-",
        "outputId": "7500e56e-7ea5-4f85-ac54-1235ea80ba3c"
      },
      "execution_count": null,
      "outputs": [
        {
          "output_type": "execute_result",
          "data": {
            "text/plain": [
              "WBC_in_Urine  Diagnosis      \n",
              "+             appendicitis        30\n",
              "              no appendicitis     21\n",
              "++            appendicitis        11\n",
              "              no appendicitis      8\n",
              "+++           appendicitis         8\n",
              "              no appendicitis      4\n",
              "no            appendicitis       270\n",
              "              no appendicitis    231\n",
              "Name: count, dtype: int64"
            ]
          },
          "metadata": {},
          "execution_count": 1168
        }
      ]
    },
    {
      "cell_type": "markdown",
      "source": [
        "Заменим пропуски на значение \"no\""
      ],
      "metadata": {
        "id": "QnZYy3hMtF7Q"
      }
    },
    {
      "cell_type": "code",
      "source": [
        "df['WBC_in_Urine'].fillna('no', inplace=True)\n",
        "df['WBC_in_Urine'].value_counts()"
      ],
      "metadata": {
        "colab": {
          "base_uri": "https://localhost:8080/"
        },
        "id": "PfbmV0JNsGJ2",
        "outputId": "3ffce616-f27c-4a73-df8b-7f1864cacf8e"
      },
      "execution_count": null,
      "outputs": [
        {
          "output_type": "execute_result",
          "data": {
            "text/plain": [
              "WBC_in_Urine\n",
              "no     698\n",
              "+       51\n",
              "++      19\n",
              "+++     12\n",
              "Name: count, dtype: int64"
            ]
          },
          "metadata": {},
          "execution_count": 1169
        }
      ]
    },
    {
      "cell_type": "markdown",
      "source": [
        "Признак Ipsilateral_Rebound_Tenderness (Состояние, при котором ощущается боль ипсилатеральной стороны при снятии давления над животом)"
      ],
      "metadata": {
        "id": "qoehMmMctV0c"
      }
    },
    {
      "cell_type": "code",
      "source": [
        "df.groupby('Ipsilateral_Rebound_Tenderness')['Diagnosis'].value_counts()"
      ],
      "metadata": {
        "colab": {
          "base_uri": "https://localhost:8080/"
        },
        "id": "oPR-e79csGIF",
        "outputId": "c1d240ed-ece6-4643-c964-ab21d3e358e5"
      },
      "execution_count": null,
      "outputs": [
        {
          "output_type": "execute_result",
          "data": {
            "text/plain": [
              "Ipsilateral_Rebound_Tenderness  Diagnosis      \n",
              "no                              no appendicitis    304\n",
              "                                appendicitis       277\n",
              "yes                             appendicitis        28\n",
              "                                no appendicitis     10\n",
              "Name: count, dtype: int64"
            ]
          },
          "metadata": {},
          "execution_count": 1170
        }
      ]
    },
    {
      "cell_type": "markdown",
      "source": [
        "Заменим пропуски на \"не определено\". Это сохранит важный диагностический признак и не собьёт баланс класса."
      ],
      "metadata": {
        "id": "5vsGm6YHul3n"
      }
    },
    {
      "cell_type": "code",
      "source": [
        "df['Ipsilateral_Rebound_Tenderness'].fillna('not excluded', inplace=True)\n",
        "df['Ipsilateral_Rebound_Tenderness'].value_counts()"
      ],
      "metadata": {
        "colab": {
          "base_uri": "https://localhost:8080/"
        },
        "id": "k2oqPTVSsGGQ",
        "outputId": "f44079cb-6626-492e-d99a-d1dce76d2f53"
      },
      "execution_count": null,
      "outputs": [
        {
          "output_type": "execute_result",
          "data": {
            "text/plain": [
              "Ipsilateral_Rebound_Tenderness\n",
              "no              581\n",
              "not excluded    161\n",
              "yes              38\n",
              "Name: count, dtype: int64"
            ]
          },
          "metadata": {},
          "execution_count": 1171
        }
      ]
    },
    {
      "cell_type": "markdown",
      "source": [
        "Признак Neutrophil_Percentage (Процент нейтрофилов)"
      ],
      "metadata": {
        "id": "ePgvv2wxvGKf"
      }
    },
    {
      "cell_type": "code",
      "source": [
        "df.groupby('Neutrophil_Percentage')['Diagnosis'].value_counts()"
      ],
      "metadata": {
        "colab": {
          "base_uri": "https://localhost:8080/"
        },
        "id": "vgT2NGk6sGCZ",
        "outputId": "388a0c24-89c0-4ded-d0b6-edb25db2afe2"
      },
      "execution_count": null,
      "outputs": [
        {
          "output_type": "execute_result",
          "data": {
            "text/plain": [
              "Neutrophil_Percentage  Diagnosis      \n",
              "27.2                   no appendicitis    1\n",
              "29.5                   appendicitis       1\n",
              "29.7                   appendicitis       1\n",
              "32.2                   no appendicitis    1\n",
              "35.1                   no appendicitis    1\n",
              "                                         ..\n",
              "93.8                   no appendicitis    1\n",
              "93.9                   appendicitis       1\n",
              "94.1                   appendicitis       1\n",
              "94.2                   appendicitis       1\n",
              "97.7                   appendicitis       1\n",
              "Name: count, Length: 456, dtype: int64"
            ]
          },
          "metadata": {},
          "execution_count": 1172
        }
      ]
    },
    {
      "cell_type": "markdown",
      "source": [
        "Заменяет пропуски медианой."
      ],
      "metadata": {
        "id": "2cTm3iWYv0rk"
      }
    },
    {
      "cell_type": "code",
      "source": [
        "median_value = df['Neutrophil_Percentage'].median()\n",
        "df['Neutrophil_Percentage'].fillna(median_value, inplace=True)\n",
        "df['Neutrophil_Percentage'].value_counts()"
      ],
      "metadata": {
        "colab": {
          "base_uri": "https://localhost:8080/"
        },
        "id": "XX70V2swvbEk",
        "outputId": "ff6fd1f0-feba-49c3-f4eb-ae7ca36a5943"
      },
      "execution_count": null,
      "outputs": [
        {
          "output_type": "execute_result",
          "data": {
            "text/plain": [
              "Neutrophil_Percentage\n",
              "75.5    106\n",
              "79.0      8\n",
              "84.5      7\n",
              "68.4      7\n",
              "80.0      7\n",
              "       ... \n",
              "41.1      1\n",
              "55.7      1\n",
              "70.6      1\n",
              "82.4      1\n",
              "68.5      1\n",
              "Name: count, Length: 355, dtype: int64"
            ]
          },
          "metadata": {},
          "execution_count": 1173
        }
      ]
    },
    {
      "cell_type": "markdown",
      "source": [
        "## удаление неинформативных колонок"
      ],
      "metadata": {
        "id": "D2DhZIhOwu8b"
      }
    },
    {
      "cell_type": "code",
      "source": [
        "df = df.drop(for_drop, axis=1)"
      ],
      "metadata": {
        "id": "o2enCvGvxGhR"
      },
      "execution_count": null,
      "outputs": []
    },
    {
      "cell_type": "code",
      "source": [
        "df.isna().sum()"
      ],
      "metadata": {
        "colab": {
          "base_uri": "https://localhost:8080/"
        },
        "id": "8Ndj_IdFxGce",
        "outputId": "ccd5542d-3b7d-4168-e8d6-fdf148a47d2d"
      },
      "execution_count": null,
      "outputs": [
        {
          "output_type": "execute_result",
          "data": {
            "text/plain": [
              "Age                                  0\n",
              "BMI                                 26\n",
              "Sex                                  1\n",
              "Height                              25\n",
              "Weight                               2\n",
              "Length_of_Stay                       3\n",
              "Alvarado_Score                      50\n",
              "Paedriatic_Appendicitis_Score       50\n",
              "Appendix_on_US                       3\n",
              "Appendix_Diameter                    0\n",
              "Migratory_Pain                       7\n",
              "Lower_Right_Abd_Pain                 6\n",
              "Contralateral_Rebound_Tenderness    13\n",
              "Coughing_Pain                       14\n",
              "Nausea                               6\n",
              "Loss_of_Appetite                     8\n",
              "Body_Temperature                     5\n",
              "WBC_Count                            4\n",
              "Neutrophil_Percentage                0\n",
              "Neutrophilia                        48\n",
              "RBC_Count                           16\n",
              "Hemoglobin                          16\n",
              "RDW                                 24\n",
              "Thrombocyte_Count                   16\n",
              "Ketones_in_Urine                     0\n",
              "RBC_in_Urine                         0\n",
              "WBC_in_Urine                         0\n",
              "CRP                                  9\n",
              "Dysuria                             27\n",
              "Stool                               15\n",
              "Peritonitis                          7\n",
              "Psoas_Sign                          35\n",
              "Ipsilateral_Rebound_Tenderness       0\n",
              "US_Performed                         3\n",
              "Free_Fluids                         61\n",
              "Appendix_Wall_Layers                 0\n",
              "Target_Sign                          0\n",
              "Appendicolith                        0\n",
              "Perforation                          0\n",
              "Surrounding_Tissue_Reaction          0\n",
              "Appendicular_Abscess                 0\n",
              "Lymph_Nodes_Location                 0\n",
              "Management                           0\n",
              "Severity                             0\n",
              "Diagnosis                            0\n",
              "dtype: int64"
            ]
          },
          "metadata": {},
          "execution_count": 1175
        }
      ]
    },
    {
      "cell_type": "markdown",
      "source": [
        "## Остальные пропуски заменим медианой или модой."
      ],
      "metadata": {
        "id": "l7SP2TUHwtho"
      }
    },
    {
      "cell_type": "code",
      "source": [
        "missing_columns = df.columns[df.isnull().any()].tolist()\n",
        "missing_columns"
      ],
      "metadata": {
        "colab": {
          "base_uri": "https://localhost:8080/"
        },
        "id": "lmWQ_81sLQ4C",
        "outputId": "3fff1477-6152-4ac1-f60e-fbec35ba2304"
      },
      "execution_count": null,
      "outputs": [
        {
          "output_type": "execute_result",
          "data": {
            "text/plain": [
              "['BMI',\n",
              " 'Sex',\n",
              " 'Height',\n",
              " 'Weight',\n",
              " 'Length_of_Stay',\n",
              " 'Alvarado_Score',\n",
              " 'Paedriatic_Appendicitis_Score',\n",
              " 'Appendix_on_US',\n",
              " 'Migratory_Pain',\n",
              " 'Lower_Right_Abd_Pain',\n",
              " 'Contralateral_Rebound_Tenderness',\n",
              " 'Coughing_Pain',\n",
              " 'Nausea',\n",
              " 'Loss_of_Appetite',\n",
              " 'Body_Temperature',\n",
              " 'WBC_Count',\n",
              " 'Neutrophilia',\n",
              " 'RBC_Count',\n",
              " 'Hemoglobin',\n",
              " 'RDW',\n",
              " 'Thrombocyte_Count',\n",
              " 'CRP',\n",
              " 'Dysuria',\n",
              " 'Stool',\n",
              " 'Peritonitis',\n",
              " 'Psoas_Sign',\n",
              " 'US_Performed',\n",
              " 'Free_Fluids']"
            ]
          },
          "metadata": {},
          "execution_count": 1176
        }
      ]
    },
    {
      "cell_type": "code",
      "source": [
        "column_types = df.dtypes"
      ],
      "metadata": {
        "id": "tt_2iGefLQ0l"
      },
      "execution_count": null,
      "outputs": []
    },
    {
      "cell_type": "code",
      "source": [
        "print(\"Типы данных колонок:\\n\", column_types)"
      ],
      "metadata": {
        "colab": {
          "base_uri": "https://localhost:8080/"
        },
        "id": "7O6-1QwaLQwX",
        "outputId": "53bae15f-69ff-493b-9da6-9b46b3acc051"
      },
      "execution_count": null,
      "outputs": [
        {
          "output_type": "stream",
          "name": "stdout",
          "text": [
            "Типы данных колонок:\n",
            " Age                                 float64\n",
            "BMI                                 float64\n",
            "Sex                                  object\n",
            "Height                              float64\n",
            "Weight                              float64\n",
            "Length_of_Stay                      float64\n",
            "Alvarado_Score                      float64\n",
            "Paedriatic_Appendicitis_Score       float64\n",
            "Appendix_on_US                       object\n",
            "Appendix_Diameter                   float64\n",
            "Migratory_Pain                       object\n",
            "Lower_Right_Abd_Pain                 object\n",
            "Contralateral_Rebound_Tenderness     object\n",
            "Coughing_Pain                        object\n",
            "Nausea                               object\n",
            "Loss_of_Appetite                     object\n",
            "Body_Temperature                    float64\n",
            "WBC_Count                           float64\n",
            "Neutrophil_Percentage               float64\n",
            "Neutrophilia                         object\n",
            "RBC_Count                           float64\n",
            "Hemoglobin                          float64\n",
            "RDW                                 float64\n",
            "Thrombocyte_Count                   float64\n",
            "Ketones_in_Urine                     object\n",
            "RBC_in_Urine                         object\n",
            "WBC_in_Urine                         object\n",
            "CRP                                 float64\n",
            "Dysuria                              object\n",
            "Stool                                object\n",
            "Peritonitis                          object\n",
            "Psoas_Sign                           object\n",
            "Ipsilateral_Rebound_Tenderness       object\n",
            "US_Performed                         object\n",
            "Free_Fluids                          object\n",
            "Appendix_Wall_Layers                 object\n",
            "Target_Sign                          object\n",
            "Appendicolith                        object\n",
            "Perforation                          object\n",
            "Surrounding_Tissue_Reaction          object\n",
            "Appendicular_Abscess                 object\n",
            "Lymph_Nodes_Location                 object\n",
            "Management                           object\n",
            "Severity                             object\n",
            "Diagnosis                            object\n",
            "dtype: object\n"
          ]
        }
      ]
    },
    {
      "cell_type": "code",
      "source": [
        "# разделим количественные и качественные колонки\n",
        "cat_columns = ['Sex',\n",
        " 'Appendix_on_US',\n",
        " 'Migratory_Pain',\n",
        " 'Lower_Right_Abd_Pain',\n",
        " 'Contralateral_Rebound_Tenderness',\n",
        " 'Coughing_Pain',\n",
        " 'Nausea',\n",
        " 'Loss_of_Appetite',\n",
        " 'Neutrophilia',\n",
        " 'Dysuria',\n",
        " 'Stool',\n",
        " 'Peritonitis',\n",
        " 'Psoas_Sign',\n",
        " 'US_Performed',\n",
        " 'Free_Fluids']\n",
        "\n",
        "num_columns = ['Age',\n",
        "  'BMI',\n",
        " 'Height',\n",
        " 'Weight',\n",
        " 'Length_of_Stay',\n",
        " 'Alvarado_Score',\n",
        " 'Paedriatic_Appendicitis_Score',\n",
        " 'Appendix_Diameter',\n",
        " 'Body_Temperature',\n",
        " 'WBC_Count',\n",
        "  'Neutrophil_Percentage',\n",
        " 'RBC_Count',\n",
        " 'Hemoglobin',\n",
        " 'RDW',\n",
        " 'Thrombocyte_Count',\n",
        " 'CRP']"
      ],
      "metadata": {
        "id": "17uELhBALQtQ"
      },
      "execution_count": null,
      "outputs": []
    },
    {
      "cell_type": "code",
      "source": [
        "# замена на моду\n",
        "for column in cat_columns:\n",
        "    mode = df[column].mode()[0]  # Найти моду\n",
        "    df[column].fillna(mode, inplace=True)"
      ],
      "metadata": {
        "id": "Td8oDUH8MZBf"
      },
      "execution_count": null,
      "outputs": []
    },
    {
      "cell_type": "code",
      "source": [
        "# замена на медиану\n",
        "for column in num_columns:\n",
        "    median = df[column].median()  # Найти медиану\n",
        "    df[column].fillna(median, inplace=True)"
      ],
      "metadata": {
        "id": "SpddAinuMY9x"
      },
      "execution_count": null,
      "outputs": []
    },
    {
      "cell_type": "code",
      "source": [
        "df.isna().sum()"
      ],
      "metadata": {
        "colab": {
          "base_uri": "https://localhost:8080/"
        },
        "id": "3v0pZgrSMY7F",
        "outputId": "a336eaba-88ad-41a5-f7be-cf0786544b47"
      },
      "execution_count": null,
      "outputs": [
        {
          "output_type": "execute_result",
          "data": {
            "text/plain": [
              "Age                                 0\n",
              "BMI                                 0\n",
              "Sex                                 0\n",
              "Height                              0\n",
              "Weight                              0\n",
              "Length_of_Stay                      0\n",
              "Alvarado_Score                      0\n",
              "Paedriatic_Appendicitis_Score       0\n",
              "Appendix_on_US                      0\n",
              "Appendix_Diameter                   0\n",
              "Migratory_Pain                      0\n",
              "Lower_Right_Abd_Pain                0\n",
              "Contralateral_Rebound_Tenderness    0\n",
              "Coughing_Pain                       0\n",
              "Nausea                              0\n",
              "Loss_of_Appetite                    0\n",
              "Body_Temperature                    0\n",
              "WBC_Count                           0\n",
              "Neutrophil_Percentage               0\n",
              "Neutrophilia                        0\n",
              "RBC_Count                           0\n",
              "Hemoglobin                          0\n",
              "RDW                                 0\n",
              "Thrombocyte_Count                   0\n",
              "Ketones_in_Urine                    0\n",
              "RBC_in_Urine                        0\n",
              "WBC_in_Urine                        0\n",
              "CRP                                 0\n",
              "Dysuria                             0\n",
              "Stool                               0\n",
              "Peritonitis                         0\n",
              "Psoas_Sign                          0\n",
              "Ipsilateral_Rebound_Tenderness      0\n",
              "US_Performed                        0\n",
              "Free_Fluids                         0\n",
              "Appendix_Wall_Layers                0\n",
              "Target_Sign                         0\n",
              "Appendicolith                       0\n",
              "Perforation                         0\n",
              "Surrounding_Tissue_Reaction         0\n",
              "Appendicular_Abscess                0\n",
              "Lymph_Nodes_Location                0\n",
              "Management                          0\n",
              "Severity                            0\n",
              "Diagnosis                           0\n",
              "dtype: int64"
            ]
          },
          "metadata": {},
          "execution_count": 1182
        }
      ]
    },
    {
      "cell_type": "markdown",
      "source": [
        "## проверка на однородность колонок"
      ],
      "metadata": {
        "id": "lbyHR7hMQ9RS"
      }
    },
    {
      "cell_type": "code",
      "source": [
        "for i in df.columns:\n",
        "  if len(df[i].value_counts() == 1):\n",
        "    print(i, len(df[i].value_counts()))"
      ],
      "metadata": {
        "colab": {
          "base_uri": "https://localhost:8080/"
        },
        "id": "C14TZFOpMY4g",
        "outputId": "87309777-31d1-46b4-fef2-6e89ffd1ef5f"
      },
      "execution_count": null,
      "outputs": [
        {
          "output_type": "stream",
          "name": "stdout",
          "text": [
            "Age 577\n",
            "BMI 511\n",
            "Sex 2\n",
            "Height 187\n",
            "Weight 269\n",
            "Length_of_Stay 19\n",
            "Alvarado_Score 11\n",
            "Paedriatic_Appendicitis_Score 11\n",
            "Appendix_on_US 2\n",
            "Appendix_Diameter 78\n",
            "Migratory_Pain 2\n",
            "Lower_Right_Abd_Pain 2\n",
            "Contralateral_Rebound_Tenderness 2\n",
            "Coughing_Pain 2\n",
            "Nausea 2\n",
            "Loss_of_Appetite 2\n",
            "Body_Temperature 46\n",
            "WBC_Count 210\n",
            "Neutrophil_Percentage 355\n",
            "Neutrophilia 2\n",
            "RBC_Count 171\n",
            "Hemoglobin 65\n",
            "RDW 53\n",
            "Thrombocyte_Count 260\n",
            "Ketones_in_Urine 4\n",
            "RBC_in_Urine 4\n",
            "WBC_in_Urine 4\n",
            "CRP 146\n",
            "Dysuria 2\n",
            "Stool 4\n",
            "Peritonitis 3\n",
            "Psoas_Sign 2\n",
            "Ipsilateral_Rebound_Tenderness 3\n",
            "US_Performed 2\n",
            "Free_Fluids 2\n",
            "Appendix_Wall_Layers 4\n",
            "Target_Sign 3\n",
            "Appendicolith 3\n",
            "Perforation 4\n",
            "Surrounding_Tissue_Reaction 2\n",
            "Appendicular_Abscess 4\n",
            "Lymph_Nodes_Location 26\n",
            "Management 4\n",
            "Severity 2\n",
            "Diagnosis 2\n"
          ]
        }
      ]
    },
    {
      "cell_type": "markdown",
      "source": [
        "## распределение целевого признака"
      ],
      "metadata": {
        "id": "_jLp5J-zRfrr"
      }
    },
    {
      "cell_type": "code",
      "source": [
        "df.Diagnosis.value_counts()"
      ],
      "metadata": {
        "colab": {
          "base_uri": "https://localhost:8080/"
        },
        "id": "F9j5ntM4QF1V",
        "outputId": "3c255153-78ee-4815-ede9-ce9f4c1043b1"
      },
      "execution_count": null,
      "outputs": [
        {
          "output_type": "execute_result",
          "data": {
            "text/plain": [
              "Diagnosis\n",
              "appendicitis       463\n",
              "no appendicitis    317\n",
              "Name: count, dtype: int64"
            ]
          },
          "metadata": {},
          "execution_count": 1185
        }
      ]
    },
    {
      "cell_type": "markdown",
      "source": [
        "# Разделение датасета"
      ],
      "metadata": {
        "id": "jrlrzFK-RvLh"
      }
    },
    {
      "cell_type": "code",
      "source": [
        "X = df.drop('Diagnosis', axis=1)\n",
        "y = df.Diagnosis"
      ],
      "metadata": {
        "id": "sp_GDPvVQFr8"
      },
      "execution_count": null,
      "outputs": []
    },
    {
      "cell_type": "code",
      "source": [
        "X_train, X_test, y_train, y_test = train_test_split(X, y, test_size=0.25, random_state=42)"
      ],
      "metadata": {
        "id": "iGA3GKXtQFmv"
      },
      "execution_count": null,
      "outputs": []
    },
    {
      "cell_type": "markdown",
      "source": [
        "# Catboost\n",
        "\n",
        "\n"
      ],
      "metadata": {
        "id": "z1g8dr5OSu5L"
      }
    },
    {
      "cell_type": "code",
      "source": [
        "print(\"Список колонок датасета:\")\n",
        "print(df.columns.tolist())"
      ],
      "metadata": {
        "colab": {
          "base_uri": "https://localhost:8080/"
        },
        "id": "YplpTBUZrwKC",
        "outputId": "2a322b5a-3033-488c-ed87-a5571fb915fb"
      },
      "execution_count": null,
      "outputs": [
        {
          "output_type": "stream",
          "name": "stdout",
          "text": [
            "Список колонок датасета:\n",
            "['Age', 'BMI', 'Sex', 'Height', 'Weight', 'Length_of_Stay', 'Alvarado_Score', 'Paedriatic_Appendicitis_Score', 'Appendix_on_US', 'Appendix_Diameter', 'Migratory_Pain', 'Lower_Right_Abd_Pain', 'Contralateral_Rebound_Tenderness', 'Coughing_Pain', 'Nausea', 'Loss_of_Appetite', 'Body_Temperature', 'WBC_Count', 'Neutrophil_Percentage', 'Neutrophilia', 'RBC_Count', 'Hemoglobin', 'RDW', 'Thrombocyte_Count', 'Ketones_in_Urine', 'RBC_in_Urine', 'WBC_in_Urine', 'CRP', 'Dysuria', 'Stool', 'Peritonitis', 'Psoas_Sign', 'Ipsilateral_Rebound_Tenderness', 'US_Performed', 'Free_Fluids', 'Appendix_Wall_Layers', 'Target_Sign', 'Appendicolith', 'Perforation', 'Surrounding_Tissue_Reaction', 'Appendicular_Abscess', 'Lymph_Nodes_Location', 'Management', 'Severity', 'Diagnosis']\n"
          ]
        }
      ]
    },
    {
      "cell_type": "code",
      "source": [
        "# Определение числовых и категориальных колонок\n",
        "numerical_features = df.select_dtypes(include=[np.number]).columns.tolist()\n",
        "categorical_features = df.select_dtypes(exclude=[np.number]).columns.tolist()"
      ],
      "metadata": {
        "id": "s3R8NGzfr620"
      },
      "execution_count": null,
      "outputs": []
    },
    {
      "cell_type": "code",
      "source": [
        "print(\"Числовые колонки:\", numerical_features)\n",
        "print(\"Категориальные колонки:\", categorical_features)"
      ],
      "metadata": {
        "colab": {
          "base_uri": "https://localhost:8080/"
        },
        "id": "P2EI6Vc6r60f",
        "outputId": "1dde6f14-2dc6-4321-e58f-f084f416668b"
      },
      "execution_count": null,
      "outputs": [
        {
          "output_type": "stream",
          "name": "stdout",
          "text": [
            "Числовые колонки: ['Age', 'BMI', 'Height', 'Weight', 'Length_of_Stay', 'Alvarado_Score', 'Paedriatic_Appendicitis_Score', 'Appendix_Diameter', 'Body_Temperature', 'WBC_Count', 'Neutrophil_Percentage', 'RBC_Count', 'Hemoglobin', 'RDW', 'Thrombocyte_Count', 'CRP']\n",
            "Категориальные колонки: ['Sex', 'Appendix_on_US', 'Migratory_Pain', 'Lower_Right_Abd_Pain', 'Contralateral_Rebound_Tenderness', 'Coughing_Pain', 'Nausea', 'Loss_of_Appetite', 'Neutrophilia', 'Ketones_in_Urine', 'RBC_in_Urine', 'WBC_in_Urine', 'Dysuria', 'Stool', 'Peritonitis', 'Psoas_Sign', 'Ipsilateral_Rebound_Tenderness', 'US_Performed', 'Free_Fluids', 'Appendix_Wall_Layers', 'Target_Sign', 'Appendicolith', 'Perforation', 'Surrounding_Tissue_Reaction', 'Appendicular_Abscess', 'Lymph_Nodes_Location', 'Management', 'Severity', 'Diagnosis']\n"
          ]
        }
      ]
    },
    {
      "cell_type": "code",
      "source": [
        "# Преобразование категориальных колонок в числовые с использованием LabelEncoder\n",
        "label_encoders = {}\n",
        "for col in categorical_features:\n",
        "    label_encoders[col] = LabelEncoder()\n",
        "    df[col] = label_encoders[col].fit_transform(df[col].astype(str))\n"
      ],
      "metadata": {
        "id": "ydiMcGdysCdU"
      },
      "execution_count": null,
      "outputs": []
    },
    {
      "cell_type": "code",
      "source": [
        "X = df.drop('Diagnosis', axis=1)\n",
        "y = df.Diagnosis"
      ],
      "metadata": {
        "id": "RyJ2PTUKsCZW"
      },
      "execution_count": null,
      "outputs": []
    },
    {
      "cell_type": "code",
      "source": [
        "X_train, X_test, y_train, y_test = train_test_split(X, y, test_size=0.2, random_state=42)"
      ],
      "metadata": {
        "id": "WUH8d6WNsCVL"
      },
      "execution_count": null,
      "outputs": []
    },
    {
      "cell_type": "code",
      "source": [
        "categorical_features.remove('Diagnosis')"
      ],
      "metadata": {
        "id": "ihPJBFtitYyB"
      },
      "execution_count": null,
      "outputs": []
    },
    {
      "cell_type": "code",
      "source": [
        "# Создание пулов данных для CatBoost, указывая категориальные признаки\n",
        "train_pool = Pool(X_train, y_train, cat_features=categorical_features)\n",
        "test_pool = Pool(X_test, y_test, cat_features=categorical_features)"
      ],
      "metadata": {
        "id": "Hb1hJzE5r6x1"
      },
      "execution_count": null,
      "outputs": []
    },
    {
      "cell_type": "code",
      "source": [
        "catboost_model = CatBoostClassifier(iterations=100, learning_rate=0.1, depth=6, verbose=10)\n",
        "catboost_model.fit(train_pool)"
      ],
      "metadata": {
        "colab": {
          "base_uri": "https://localhost:8080/"
        },
        "id": "GEqmL5qYr6vN",
        "outputId": "c59302c8-706e-4c32-cf6f-ff619a18a79e"
      },
      "execution_count": null,
      "outputs": [
        {
          "output_type": "stream",
          "name": "stdout",
          "text": [
            "0:\tlearn: 0.5097432\ttotal: 13.5ms\tremaining: 1.33s\n",
            "10:\tlearn: 0.0773028\ttotal: 174ms\tremaining: 1.41s\n",
            "20:\tlearn: 0.0259242\ttotal: 374ms\tremaining: 1.41s\n",
            "30:\tlearn: 0.0148058\ttotal: 588ms\tremaining: 1.31s\n",
            "40:\tlearn: 0.0090676\ttotal: 794ms\tremaining: 1.14s\n",
            "50:\tlearn: 0.0070916\ttotal: 981ms\tremaining: 942ms\n",
            "60:\tlearn: 0.0055360\ttotal: 1.18s\tremaining: 757ms\n",
            "70:\tlearn: 0.0048121\ttotal: 1.36s\tremaining: 557ms\n",
            "80:\tlearn: 0.0039981\ttotal: 1.57s\tremaining: 368ms\n",
            "90:\tlearn: 0.0035828\ttotal: 1.69s\tremaining: 167ms\n",
            "99:\tlearn: 0.0032804\ttotal: 1.79s\tremaining: 0us\n"
          ]
        },
        {
          "output_type": "execute_result",
          "data": {
            "text/plain": [
              "<catboost.core.CatBoostClassifier at 0x7b5edae25e10>"
            ]
          },
          "metadata": {},
          "execution_count": 1198
        }
      ]
    },
    {
      "cell_type": "code",
      "source": [
        "# Предсказание и оценка модели\n",
        "y_pred = catboost_model.predict(test_pool)\n",
        "accuracy = accuracy_score(y_test, y_pred)"
      ],
      "metadata": {
        "id": "gMkuXw2Et8GS"
      },
      "execution_count": null,
      "outputs": []
    },
    {
      "cell_type": "code",
      "source": [
        "print(f'Accuracy: {accuracy:.2f}')"
      ],
      "metadata": {
        "colab": {
          "base_uri": "https://localhost:8080/"
        },
        "id": "7FlFUpDSt8Em",
        "outputId": "f766015b-8b6a-42dc-a7e4-3dc3a9769ccb"
      },
      "execution_count": null,
      "outputs": [
        {
          "output_type": "stream",
          "name": "stdout",
          "text": [
            "Accuracy: 1.00\n"
          ]
        }
      ]
    },
    {
      "cell_type": "code",
      "source": [
        "r2_score(y_test, y_pred )"
      ],
      "metadata": {
        "colab": {
          "base_uri": "https://localhost:8080/"
        },
        "id": "mNK_tVyot8CF",
        "outputId": "60ee2eb3-4efb-412d-ab03-43f7ff4e176a"
      },
      "execution_count": null,
      "outputs": [
        {
          "output_type": "execute_result",
          "data": {
            "text/plain": [
              "1.0"
            ]
          },
          "metadata": {},
          "execution_count": 1201
        }
      ]
    },
    {
      "cell_type": "code",
      "source": [
        "report = classification_report(y_test, y_pred)\n",
        "print(report)"
      ],
      "metadata": {
        "colab": {
          "base_uri": "https://localhost:8080/"
        },
        "id": "x41BO8-At7_6",
        "outputId": "eddc047b-9eac-4605-c5ac-69c3b3e83184"
      },
      "execution_count": null,
      "outputs": [
        {
          "output_type": "stream",
          "name": "stdout",
          "text": [
            "              precision    recall  f1-score   support\n",
            "\n",
            "           0       1.00      1.00      1.00        91\n",
            "           1       1.00      1.00      1.00        65\n",
            "\n",
            "    accuracy                           1.00       156\n",
            "   macro avg       1.00      1.00      1.00       156\n",
            "weighted avg       1.00      1.00      1.00       156\n",
            "\n"
          ]
        }
      ]
    },
    {
      "cell_type": "code",
      "source": [
        "conf_matrix = confusion_matrix(y_test, y_pred)\n",
        "print(\"Confusion Matrix:\")\n",
        "print(conf_matrix)"
      ],
      "metadata": {
        "colab": {
          "base_uri": "https://localhost:8080/"
        },
        "id": "tHD9pI1it79u",
        "outputId": "71e6a34e-0ec2-4684-ac63-2fa41c25bf92"
      },
      "execution_count": null,
      "outputs": [
        {
          "output_type": "stream",
          "name": "stdout",
          "text": [
            "Confusion Matrix:\n",
            "[[91  0]\n",
            " [ 0 65]]\n"
          ]
        }
      ]
    },
    {
      "cell_type": "code",
      "source": [
        "# Проведение кросс-валидации для более надежной оценки модели\n",
        "cv_scores = cross_val_score(catboost_model, X[num_columns], y, cv=5)\n",
        "print(f'Cross-Validation Scores: {cv_scores}')\n",
        "print(f'Mean CV Score: {np.mean(cv_scores):.2f}')"
      ],
      "metadata": {
        "colab": {
          "base_uri": "https://localhost:8080/"
        },
        "id": "GkrcPi3SdnEM",
        "outputId": "d7d76b5c-0570-46d2-bc0d-b08a7cc3484c"
      },
      "execution_count": null,
      "outputs": [
        {
          "output_type": "stream",
          "name": "stdout",
          "text": [
            "0:\tlearn: 0.6557630\ttotal: 18.9ms\tremaining: 1.87s\n",
            "10:\tlearn: 0.4208196\ttotal: 203ms\tremaining: 1.64s\n",
            "20:\tlearn: 0.3037239\ttotal: 346ms\tremaining: 1.3s\n",
            "30:\tlearn: 0.2546969\ttotal: 499ms\tremaining: 1.11s\n",
            "40:\tlearn: 0.2210954\ttotal: 697ms\tremaining: 1s\n",
            "50:\tlearn: 0.1961869\ttotal: 890ms\tremaining: 855ms\n",
            "60:\tlearn: 0.1751682\ttotal: 1.12s\tremaining: 718ms\n",
            "70:\tlearn: 0.1599126\ttotal: 1.23s\tremaining: 504ms\n",
            "80:\tlearn: 0.1453982\ttotal: 1.33s\tremaining: 313ms\n",
            "90:\tlearn: 0.1353042\ttotal: 1.49s\tremaining: 147ms\n",
            "99:\tlearn: 0.1298736\ttotal: 1.61s\tremaining: 0us\n",
            "0:\tlearn: 0.6556378\ttotal: 7.4ms\tremaining: 732ms\n",
            "10:\tlearn: 0.4192587\ttotal: 125ms\tremaining: 1.01s\n",
            "20:\tlearn: 0.3031658\ttotal: 248ms\tremaining: 932ms\n",
            "30:\tlearn: 0.2461694\ttotal: 353ms\tremaining: 786ms\n",
            "40:\tlearn: 0.2204852\ttotal: 495ms\tremaining: 712ms\n",
            "50:\tlearn: 0.1967574\ttotal: 683ms\tremaining: 656ms\n",
            "60:\tlearn: 0.1748679\ttotal: 792ms\tremaining: 506ms\n",
            "70:\tlearn: 0.1599592\ttotal: 888ms\tremaining: 363ms\n",
            "80:\tlearn: 0.1463601\ttotal: 995ms\tremaining: 233ms\n",
            "90:\tlearn: 0.1382290\ttotal: 1.07s\tremaining: 105ms\n",
            "99:\tlearn: 0.1310872\ttotal: 1.15s\tremaining: 0us\n",
            "0:\tlearn: 0.6677060\ttotal: 7.72ms\tremaining: 765ms\n",
            "10:\tlearn: 0.4129198\ttotal: 158ms\tremaining: 1.28s\n",
            "20:\tlearn: 0.3090175\ttotal: 260ms\tremaining: 980ms\n",
            "30:\tlearn: 0.2560824\ttotal: 416ms\tremaining: 925ms\n",
            "40:\tlearn: 0.2250593\ttotal: 516ms\tremaining: 743ms\n",
            "50:\tlearn: 0.2027943\ttotal: 620ms\tremaining: 596ms\n",
            "60:\tlearn: 0.1845621\ttotal: 724ms\tremaining: 463ms\n",
            "70:\tlearn: 0.1685232\ttotal: 836ms\tremaining: 341ms\n",
            "80:\tlearn: 0.1539549\ttotal: 937ms\tremaining: 220ms\n",
            "90:\tlearn: 0.1396751\ttotal: 1.04s\tremaining: 103ms\n",
            "99:\tlearn: 0.1328930\ttotal: 1.16s\tremaining: 0us\n",
            "0:\tlearn: 0.6606478\ttotal: 5.1ms\tremaining: 505ms\n",
            "10:\tlearn: 0.4080292\ttotal: 136ms\tremaining: 1.1s\n",
            "20:\tlearn: 0.3004283\ttotal: 271ms\tremaining: 1.02s\n",
            "30:\tlearn: 0.2534679\ttotal: 417ms\tremaining: 929ms\n",
            "40:\tlearn: 0.2210464\ttotal: 552ms\tremaining: 794ms\n",
            "50:\tlearn: 0.1943631\ttotal: 665ms\tremaining: 639ms\n",
            "60:\tlearn: 0.1768935\ttotal: 772ms\tremaining: 494ms\n",
            "70:\tlearn: 0.1562502\ttotal: 888ms\tremaining: 363ms\n",
            "80:\tlearn: 0.1458272\ttotal: 970ms\tremaining: 228ms\n",
            "90:\tlearn: 0.1390462\ttotal: 1.01s\tremaining: 99.6ms\n",
            "99:\tlearn: 0.1344424\ttotal: 1.05s\tremaining: 0us\n",
            "0:\tlearn: 0.6655663\ttotal: 4.61ms\tremaining: 457ms\n",
            "10:\tlearn: 0.4317377\ttotal: 57.1ms\tremaining: 462ms\n",
            "20:\tlearn: 0.3008771\ttotal: 97.4ms\tremaining: 366ms\n",
            "30:\tlearn: 0.2319864\ttotal: 170ms\tremaining: 377ms\n",
            "40:\tlearn: 0.2035279\ttotal: 224ms\tremaining: 322ms\n",
            "50:\tlearn: 0.1808167\ttotal: 297ms\tremaining: 286ms\n",
            "60:\tlearn: 0.1567558\ttotal: 335ms\tremaining: 214ms\n",
            "70:\tlearn: 0.1426167\ttotal: 384ms\tremaining: 157ms\n",
            "80:\tlearn: 0.1299545\ttotal: 464ms\tremaining: 109ms\n",
            "90:\tlearn: 0.1230097\ttotal: 505ms\tremaining: 49.9ms\n",
            "99:\tlearn: 0.1189990\ttotal: 582ms\tremaining: 0us\n",
            "Cross-Validation Scores: [0.93589744 0.92307692 0.96153846 0.93589744 0.8974359 ]\n",
            "Mean CV Score: 0.93\n"
          ]
        }
      ]
    },
    {
      "cell_type": "code",
      "source": [
        "# Получение важности признаков\n",
        "feature_importances = catboost_model.get_feature_importance(train_pool)\n",
        "feature_names = X_train.columns"
      ],
      "metadata": {
        "id": "B9_OEl6p5pQ_"
      },
      "execution_count": null,
      "outputs": []
    },
    {
      "cell_type": "code",
      "source": [
        "feature_importance_df = pd.DataFrame({'Feature': feature_names, 'Importance': feature_importances})\n",
        "feature_importance_df = feature_importance_df.sort_values(by='Importance', ascending=False)"
      ],
      "metadata": {
        "id": "3GYj5RvR51Cc"
      },
      "execution_count": null,
      "outputs": []
    },
    {
      "cell_type": "code",
      "source": [
        "# Вывод важности признаков\n",
        "print(\"Feature Importances:\")\n",
        "print(feature_importance_df)"
      ],
      "metadata": {
        "colab": {
          "base_uri": "https://localhost:8080/"
        },
        "id": "XOZX5T4D5-1n",
        "outputId": "a96a0c13-658b-410a-c20d-f14ab02a5397"
      },
      "execution_count": null,
      "outputs": [
        {
          "output_type": "stream",
          "name": "stdout",
          "text": [
            "Feature Importances:\n",
            "                             Feature    Importance\n",
            "36                       Target_Sign  4.970298e+01\n",
            "41              Lymph_Nodes_Location  2.100076e+01\n",
            "9                  Appendix_Diameter  5.371100e+00\n",
            "42                        Management  5.077759e+00\n",
            "17                         WBC_Count  1.980564e+00\n",
            "20                         RBC_Count  1.706770e+00\n",
            "6                     Alvarado_Score  1.669904e+00\n",
            "4                             Weight  1.268277e+00\n",
            "0                                Age  1.224927e+00\n",
            "27                               CRP  1.198607e+00\n",
            "23                 Thrombocyte_Count  9.918539e-01\n",
            "21                        Hemoglobin  8.642708e-01\n",
            "22                               RDW  8.169436e-01\n",
            "7      Paedriatic_Appendicitis_Score  7.784944e-01\n",
            "16                  Body_Temperature  7.182067e-01\n",
            "28                           Dysuria  6.980610e-01\n",
            "8                     Appendix_on_US  6.538841e-01\n",
            "18             Neutrophil_Percentage  6.100061e-01\n",
            "1                                BMI  6.056001e-01\n",
            "5                     Length_of_Stay  6.019593e-01\n",
            "39       Surrounding_Tissue_Reaction  5.017742e-01\n",
            "11              Lower_Right_Abd_Pain  4.130530e-01\n",
            "43                          Severity  3.271628e-01\n",
            "33                      US_Performed  2.866800e-01\n",
            "32    Ipsilateral_Rebound_Tenderness  2.484783e-01\n",
            "38                       Perforation  1.775010e-01\n",
            "3                             Height  1.393761e-01\n",
            "35              Appendix_Wall_Layers  1.042913e-01\n",
            "31                        Psoas_Sign  6.414844e-02\n",
            "12  Contralateral_Rebound_Tenderness  5.998638e-02\n",
            "34                       Free_Fluids  3.565900e-02\n",
            "26                      WBC_in_Urine  3.261298e-02\n",
            "15                  Loss_of_Appetite  2.117861e-02\n",
            "25                      RBC_in_Urine  2.057632e-02\n",
            "30                       Peritonitis  1.789742e-02\n",
            "40              Appendicular_Abscess  5.386731e-03\n",
            "37                     Appendicolith  3.163306e-03\n",
            "29                             Stool  1.436391e-04\n",
            "14                            Nausea  2.421324e-07\n",
            "2                                Sex  0.000000e+00\n",
            "10                    Migratory_Pain  0.000000e+00\n",
            "24                  Ketones_in_Urine  0.000000e+00\n",
            "19                      Neutrophilia  0.000000e+00\n",
            "13                     Coughing_Pain  0.000000e+00\n"
          ]
        }
      ]
    },
    {
      "cell_type": "code",
      "source": [
        "# Визуализация важности признаков\n",
        "plt.figure(figsize=(10, 6))\n",
        "plt.barh(feature_importance_df['Feature'], feature_importance_df['Importance'], color='skyblue')\n",
        "plt.xlabel('Importance')\n",
        "plt.ylabel('Feature')\n",
        "plt.title('Feature Importances')\n",
        "plt.gca().invert_yaxis()\n",
        "plt.show()"
      ],
      "metadata": {
        "colab": {
          "base_uri": "https://localhost:8080/",
          "height": 541
        },
        "id": "A_wrDWya6ClM",
        "outputId": "039bd3d3-9d9f-40a9-f811-d0f9b64ff3ef"
      },
      "execution_count": null,
      "outputs": [
        {
          "output_type": "display_data",
          "data": {
            "text/plain": [
              "<Figure size 1000x600 with 1 Axes>"
            ],
            "image/png": "[encoded data removed]"
          },
          "metadata": {}
        }
      ]
    },
    {
      "cell_type": "markdown",
      "source": [
        "# Логистическая регрессия"
      ],
      "metadata": {
        "id": "FYAnBKcz6Xer"
      }
    },
    {
      "cell_type": "code",
      "source": [
        "lg_model = LogisticRegression(random_state=42, max_iter=10000)\n"
      ],
      "metadata": {
        "id": "VwPHcKrf6bGY"
      },
      "execution_count": null,
      "outputs": []
    },
    {
      "cell_type": "code",
      "source": [
        "lg_model.fit(X_train, y_train)"
      ],
      "metadata": {
        "colab": {
          "base_uri": "https://localhost:8080/",
          "height": 74
        },
        "id": "3Qz56PM86bca",
        "outputId": "3203273e-0e6f-4867-f0f6-f912a5c65a9f"
      },
      "execution_count": null,
      "outputs": [
        {
          "output_type": "execute_result",
          "data": {
            "text/plain": [
              "LogisticRegression(max_iter=10000, random_state=42)"
            ],
            "text/html": [
              "<style>#sk-container-id-5 {color: black;background-color: white;}#sk-container-id-5 pre{padding: 0;}#sk-container-id-5 div.sk-toggleable {background-color: white;}#sk-container-id-5 label.sk-toggleable__label {cursor: pointer;display: block;width: 100%;margin-bottom: 0;padding: 0.3em;box-sizing: border-box;text-align: center;}#sk-container-id-5 label.sk-toggleable__label-arrow:before {content: \"▸\";float: left;margin-right: 0.25em;color: #696969;}#sk-container-id-5 label.sk-toggleable__label-arrow:hover:before {color: black;}#sk-container-id-5 div.sk-estimator:hover label.sk-toggleable__label-arrow:before {color: black;}#sk-container-id-5 div.sk-toggleable__content {max-height: 0;max-width: 0;overflow: hidden;text-align: left;background-color: #f0f8ff;}#sk-container-id-5 div.sk-toggleable__content pre {margin: 0.2em;color: black;border-radius: 0.25em;background-color: #f0f8ff;}#sk-container-id-5 input.sk-toggleable__control:checked~div.sk-toggleable__content {max-height: 200px;max-width: 100%;overflow: auto;}#sk-container-id-5 input.sk-toggleable__control:checked~label.sk-toggleable__label-arrow:before {content: \"▾\";}#sk-container-id-5 div.sk-estimator input.sk-toggleable__control:checked~label.sk-toggleable__label {background-color: #d4ebff;}#sk-container-id-5 div.sk-label input.sk-toggleable__control:checked~label.sk-toggleable__label {background-color: #d4ebff;}#sk-container-id-5 input.sk-hidden--visually {border: 0;clip: rect(1px 1px 1px 1px);clip: rect(1px, 1px, 1px, 1px);height: 1px;margin: -1px;overflow: hidden;padding: 0;position: absolute;width: 1px;}#sk-container-id-5 div.sk-estimator {font-family: monospace;background-color: #f0f8ff;border: 1px dotted black;border-radius: 0.25em;box-sizing: border-box;margin-bottom: 0.5em;}#sk-container-id-5 div.sk-estimator:hover {background-color: #d4ebff;}#sk-container-id-5 div.sk-parallel-item::after {content: \"\";width: 100%;border-bottom: 1px solid gray;flex-grow: 1;}#sk-container-id-5 div.sk-label:hover label.sk-toggleable__label {background-color: #d4ebff;}#sk-container-id-5 div.sk-serial::before {content: \"\";position: absolute;border-left: 1px solid gray;box-sizing: border-box;top: 0;bottom: 0;left: 50%;z-index: 0;}#sk-container-id-5 div.sk-serial {display: flex;flex-direction: column;align-items: center;background-color: white;padding-right: 0.2em;padding-left: 0.2em;position: relative;}#sk-container-id-5 div.sk-item {position: relative;z-index: 1;}#sk-container-id-5 div.sk-parallel {display: flex;align-items: stretch;justify-content: center;background-color: white;position: relative;}#sk-container-id-5 div.sk-item::before, #sk-container-id-5 div.sk-parallel-item::before {content: \"\";position: absolute;border-left: 1px solid gray;box-sizing: border-box;top: 0;bottom: 0;left: 50%;z-index: -1;}#sk-container-id-5 div.sk-parallel-item {display: flex;flex-direction: column;z-index: 1;position: relative;background-color: white;}#sk-container-id-5 div.sk-parallel-item:first-child::after {align-self: flex-end;width: 50%;}#sk-container-id-5 div.sk-parallel-item:last-child::after {align-self: flex-start;width: 50%;}#sk-container-id-5 div.sk-parallel-item:only-child::after {width: 0;}#sk-container-id-5 div.sk-dashed-wrapped {border: 1px dashed gray;margin: 0 0.4em 0.5em 0.4em;box-sizing: border-box;padding-bottom: 0.4em;background-color: white;}#sk-container-id-5 div.sk-label label {font-family: monospace;font-weight: bold;display: inline-block;line-height: 1.2em;}#sk-container-id-5 div.sk-label-container {text-align: center;}#sk-container-id-5 div.sk-container {/* jupyter's `normalize.less` sets `[hidden] { display: none; }` but bootstrap.min.css set `[hidden] { display: none !important; }` so we also need the `!important` here to be able to override the default hidden behavior on the sphinx rendered scikit-learn.org. See: https://github.com/scikit-learn/scikit-learn/issues/21755 */display: inline-block !important;position: relative;}#sk-container-id-5 div.sk-text-repr-fallback {display: none;}</style><div id=\"sk-container-id-5\" class=\"sk-top-container\"><div class=\"sk-text-repr-fallback\"><pre>LogisticRegression(max_iter=10000, random_state=42)</pre><b>In a Jupyter environment, please rerun this cell to show the HTML representation or trust the notebook. <br />On GitHub, the HTML representation is unable to render, please try loading this page with nbviewer.org.</b></div><div class=\"sk-container\" hidden><div class=\"sk-item\"><div class=\"sk-estimator sk-toggleable\"><input class=\"sk-toggleable__control sk-hidden--visually\" id=\"sk-estimator-id-5\" type=\"checkbox\" checked><label for=\"sk-estimator-id-5\" class=\"sk-toggleable__label sk-toggleable__label-arrow\">LogisticRegression</label><div class=\"sk-toggleable__content\"><pre>LogisticRegression(max_iter=10000, random_state=42)</pre></div></div></div></div></div>"
            ]
          },
          "metadata": {},
          "execution_count": 1210
        }
      ]
    },
    {
      "cell_type": "code",
      "source": [
        "y_pred = lg_model.predict(X_test)"
      ],
      "metadata": {
        "id": "mDrHhzl06bMa"
      },
      "execution_count": null,
      "outputs": []
    },
    {
      "cell_type": "code",
      "source": [
        "print(classification_report(y_test, y_pred))"
      ],
      "metadata": {
        "colab": {
          "base_uri": "https://localhost:8080/"
        },
        "id": "9TF03JZE7QaN",
        "outputId": "8cab2244-b362-4dd1-b714-963123ea4ec8"
      },
      "execution_count": null,
      "outputs": [
        {
          "output_type": "stream",
          "name": "stdout",
          "text": [
            "              precision    recall  f1-score   support\n",
            "\n",
            "           0       0.96      1.00      0.98        91\n",
            "           1       1.00      0.94      0.97        65\n",
            "\n",
            "    accuracy                           0.97       156\n",
            "   macro avg       0.98      0.97      0.97       156\n",
            "weighted avg       0.98      0.97      0.97       156\n",
            "\n"
          ]
        }
      ]
    },
    {
      "cell_type": "markdown",
      "source": [
        "# PyTorch (SimpleNN)"
      ],
      "metadata": {
        "id": "g78N2StrZskV"
      }
    },
    {
      "cell_type": "code",
      "source": [
        "X_train, X_test, y_train, y_test = train_test_split(X, y, test_size=0.2, random_state=42)"
      ],
      "metadata": {
        "id": "WcxQa7o0dnyG"
      },
      "execution_count": null,
      "outputs": []
    },
    {
      "cell_type": "code",
      "source": [
        "# Преобразование данных в тензоры\n",
        "X_train_tensor = torch.tensor(X_train.values, dtype=torch.float32)\n",
        "y_train_tensor = torch.tensor(y_train.values, dtype=torch.long)\n",
        "X_test_tensor = torch.tensor(X_test.values, dtype=torch.float32)\n",
        "y_test_tensor = torch.tensor(y_test.values, dtype=torch.long)\n"
      ],
      "metadata": {
        "id": "yyxkwehVdnvx"
      },
      "execution_count": null,
      "outputs": []
    },
    {
      "cell_type": "code",
      "source": [
        "# Создание PyTorch датасетов\n",
        "train_dataset = torch.utils.data.TensorDataset(X_train_tensor, y_train_tensor)\n",
        "test_dataset = torch.utils.data.TensorDataset(X_test_tensor, y_test_tensor)"
      ],
      "metadata": {
        "id": "lWeX1HVQdnq0"
      },
      "execution_count": null,
      "outputs": []
    },
    {
      "cell_type": "code",
      "source": [
        "# Создание PyTorch загрузчиков данных\n",
        "train_loader = torch.utils.data.DataLoader(train_dataset, batch_size=64, shuffle=True)\n",
        "test_loader = torch.utils.data.DataLoader(test_dataset, batch_size=64, shuffle=False)"
      ],
      "metadata": {
        "id": "zgPHRqFodnob"
      },
      "execution_count": null,
      "outputs": []
    },
    {
      "cell_type": "code",
      "source": [
        "class SimpleNN(nn.Module):\n",
        "    def __init__(self, input_size):\n",
        "        super(SimpleNN, self).__init__()\n",
        "        self.fc1 = nn.Linear(input_size, 128)\n",
        "        self.fc2 = nn.Linear(128, 64)\n",
        "        self.fc3 = nn.Linear(64, 2)\n",
        "\n",
        "    def forward(self, x):\n",
        "        x = torch.relu(self.fc1(x))\n",
        "        x = torch.relu(self.fc2(x))\n",
        "        x = self.fc3(x)\n",
        "        return x\n",
        "\n",
        "input_size = X_train.shape[1]\n",
        "model = SimpleNN(input_size)"
      ],
      "metadata": {
        "id": "8Eou2IiUAWQM"
      },
      "execution_count": null,
      "outputs": []
    },
    {
      "cell_type": "code",
      "source": [
        "criterion = nn.CrossEntropyLoss()\n",
        "optimizer = optim.SGD(model.parameters(), lr=0.01, momentum=0.9)\n",
        "#optimizer = optim.Adam(model.parameters(), lr=0.01)"
      ],
      "metadata": {
        "id": "b81nJTADAWNm"
      },
      "execution_count": null,
      "outputs": []
    },
    {
      "cell_type": "code",
      "source": [
        "epochs = 20\n",
        "train_losses = []\n",
        "\n",
        "for epoch in range(epochs):\n",
        "    running_loss = 0.0\n",
        "    for i, data in enumerate(train_loader, 0):\n",
        "        inputs, labels = data\n",
        "\n",
        "        optimizer.zero_grad()\n",
        "\n",
        "        outputs = model(inputs)\n",
        "        loss = criterion(outputs, labels)\n",
        "        loss.backward()\n",
        "        optimizer.step()\n",
        "\n",
        "        running_loss += loss.item()\n",
        "\n",
        "    # Сохраняем среднее значение потерь за эпоху\n",
        "    epoch_loss = running_loss / len(train_loader)\n",
        "    train_losses.append(epoch_loss)\n",
        "    print(f'Epoch {epoch+1}, Loss: {epoch_loss}')\n",
        "\n",
        "print('Training finished')"
      ],
      "metadata": {
        "colab": {
          "base_uri": "https://localhost:8080/"
        },
        "id": "V3Ur5kndBz1I",
        "outputId": "63862807-faef-48dd-ea92-3cae97fecc5a"
      },
      "execution_count": null,
      "outputs": [
        {
          "output_type": "stream",
          "name": "stdout",
          "text": [
            "Epoch 1, Loss: 3.913482689857483\n",
            "Epoch 2, Loss: 0.6773426115512848\n",
            "Epoch 3, Loss: 0.6749483287334442\n",
            "Epoch 4, Loss: 0.6758415281772614\n",
            "Epoch 5, Loss: 0.6745336532592774\n",
            "Epoch 6, Loss: 0.6735183775424958\n",
            "Epoch 7, Loss: 0.6755473256111145\n",
            "Epoch 8, Loss: 0.6744909346103668\n",
            "Epoch 9, Loss: 0.6747366428375244\n",
            "Epoch 10, Loss: 0.6740854263305665\n",
            "Epoch 11, Loss: 0.673499059677124\n",
            "Epoch 12, Loss: 0.6750082790851593\n",
            "Epoch 13, Loss: 0.6739032566547394\n",
            "Epoch 14, Loss: 0.6744933307170868\n",
            "Epoch 15, Loss: 0.6748766958713531\n",
            "Epoch 16, Loss: 0.675242441892624\n",
            "Epoch 17, Loss: 0.6746844589710236\n",
            "Epoch 18, Loss: 0.6749384880065918\n",
            "Epoch 19, Loss: 0.6747532784938812\n",
            "Epoch 20, Loss: 0.6748712599277497\n",
            "Training finished\n"
          ]
        }
      ]
    },
    {
      "cell_type": "code",
      "source": [
        "correct = 0\n",
        "total = 0\n",
        "\n",
        "with torch.no_grad():\n",
        "    for data in test_loader:\n",
        "        inputs, labels = data\n",
        "        outputs = model(inputs)\n",
        "        _, predicted = torch.max(outputs.data, 1)\n",
        "        total += labels.size(0)\n",
        "        correct += (predicted == labels).sum().item()\n",
        "\n",
        "print(f'Accuracy on the test data: {100 * correct / total}%')"
      ],
      "metadata": {
        "colab": {
          "base_uri": "https://localhost:8080/"
        },
        "id": "1nMS3_vqAWID",
        "outputId": "431bd7ea-f1c3-435d-b03d-9925e8cca967"
      },
      "execution_count": null,
      "outputs": [
        {
          "output_type": "stream",
          "name": "stdout",
          "text": [
            "Accuracy on the test data: 58.333333333333336%\n"
          ]
        }
      ]
    },
    {
      "cell_type": "code",
      "source": [
        "# Построение графика ошибки по эпохам\n",
        "plt.plot(range(1, epochs + 1), train_losses, marker='o')\n",
        "plt.title('Training Loss by Epoch')\n",
        "plt.xlabel('Epoch')\n",
        "plt.ylabel('Loss')\n",
        "plt.grid(True)\n",
        "plt.show()"
      ],
      "metadata": {
        "colab": {
          "base_uri": "https://localhost:8080/",
          "height": 472
        },
        "id": "oC2lBK95A48y",
        "outputId": "46d81c54-9e3a-4c4c-9b59-d934ab43ff20"
      },
      "execution_count": null,
      "outputs": [
        {
          "output_type": "display_data",
          "data": {
            "text/plain": [
              "<Figure size 640x480 with 1 Axes>"
            ],
            "image/png": "[encoded data removed]"
          },
          "metadata": {}
        }
      ]
    },
    {
      "cell_type": "markdown",
      "source": [
        "# PyTorch (TabularNN)"
      ],
      "metadata": {
        "id": "mGTTFYZwFcD3"
      }
    },
    {
      "cell_type": "code",
      "source": [
        "import torch.nn.functional as F"
      ],
      "metadata": {
        "id": "g2dv53ipA4yJ"
      },
      "execution_count": null,
      "outputs": []
    },
    {
      "cell_type": "code",
      "source": [
        "class TabularNN(nn.Module):\n",
        "    def __init__(self, input_size, hidden_sizes=[128, 64], output_size=2):\n",
        "        super(TabularNN, self).__init__()\n",
        "        self.hidden_layers = nn.ModuleList()\n",
        "\n",
        "        # Входной слой\n",
        "        self.hidden_layers.append(nn.Linear(input_size, hidden_sizes[0]))\n",
        "\n",
        "        # Скрытые слои\n",
        "        for i in range(len(hidden_sizes) - 1):\n",
        "            self.hidden_layers.append(nn.Linear(hidden_sizes[i], hidden_sizes[i + 1]))\n",
        "\n",
        "        # Выходной слой\n",
        "        self.output_layer = nn.Linear(hidden_sizes[-1], output_size)\n",
        "\n",
        "    def forward(self, x):\n",
        "        # Применяем ReLU ко всем скрытым слоям\n",
        "        for layer in self.hidden_layers:\n",
        "            x = F.relu(layer(x))\n",
        "\n",
        "        # Выходной слой\n",
        "        x = self.output_layer(x)\n",
        "        return x"
      ],
      "metadata": {
        "id": "HeDHxA1iEDAD"
      },
      "execution_count": null,
      "outputs": []
    },
    {
      "cell_type": "code",
      "source": [
        "# Преобразование данных в тензоры\n",
        "X_train_tensor = torch.tensor(X_train.values, dtype=torch.float32)\n",
        "y_train_tensor = torch.tensor(y_train.values, dtype=torch.long)\n",
        "X_test_tensor = torch.tensor(X_test.values, dtype=torch.float32)\n",
        "y_test_tensor = torch.tensor(y_test.values, dtype=torch.long)"
      ],
      "metadata": {
        "id": "tNyO7zmcEC6F"
      },
      "execution_count": null,
      "outputs": []
    },
    {
      "cell_type": "code",
      "source": [
        "# Создание PyTorch датасетов\n",
        "train_dataset = torch.utils.data.TensorDataset(X_train_tensor, y_train_tensor)\n",
        "test_dataset = torch.utils.data.TensorDataset(X_test_tensor, y_test_tensor)"
      ],
      "metadata": {
        "id": "qzODZegMEC3G"
      },
      "execution_count": null,
      "outputs": []
    },
    {
      "cell_type": "code",
      "source": [
        "# Создание PyTorch загрузчиков данных\n",
        "train_loader = torch.utils.data.DataLoader(train_dataset, batch_size=64, shuffle=True)\n",
        "test_loader = torch.utils.data.DataLoader(test_dataset, batch_size=64, shuffle=False)"
      ],
      "metadata": {
        "id": "Ep1In490ECz_"
      },
      "execution_count": null,
      "outputs": []
    },
    {
      "cell_type": "code",
      "source": [
        "input_size = X_train.shape[1]\n",
        "model = TabularNN(input_size)\n",
        "\n",
        "criterion = nn.CrossEntropyLoss()\n",
        "optimizer = optim.SGD(model.parameters(), lr=0.01, momentum=0.9)"
      ],
      "metadata": {
        "id": "j5fCxUSzEvyM"
      },
      "execution_count": null,
      "outputs": []
    },
    {
      "cell_type": "code",
      "source": [
        "epochs = 20\n",
        "train_losses = []\n",
        "\n",
        "for epoch in range(epochs):\n",
        "    running_loss = 0.0\n",
        "    for i, data in enumerate(train_loader, 0):\n",
        "        inputs, labels = data\n",
        "\n",
        "        optimizer.zero_grad()\n",
        "\n",
        "        outputs = model(inputs)\n",
        "        loss = criterion(outputs, labels)\n",
        "        loss.backward()\n",
        "        optimizer.step()\n",
        "\n",
        "        running_loss += loss.item()\n",
        "\n",
        "    # Сохраняем среднее значение потерь за эпоху\n",
        "    epoch_loss = running_loss / len(train_loader)\n",
        "    train_losses.append(epoch_loss)\n",
        "    print(f'Epoch {epoch+1}, Loss: {epoch_loss}')\n",
        "\n",
        "print('Training finished')"
      ],
      "metadata": {
        "colab": {
          "base_uri": "https://localhost:8080/"
        },
        "id": "-H4zDjmNEvvU",
        "outputId": "cd935f8b-fd1c-4b4d-9bf8-ce9a22cc527d"
      },
      "execution_count": null,
      "outputs": [
        {
          "output_type": "stream",
          "name": "stdout",
          "text": [
            "Epoch 1, Loss: 2.7294256687164307\n",
            "Epoch 2, Loss: 0.6582761287689209\n",
            "Epoch 3, Loss: 0.6407657593488694\n",
            "Epoch 4, Loss: 0.6647268831729889\n",
            "Epoch 5, Loss: 0.6025961697101593\n",
            "Epoch 6, Loss: 0.6856468051671982\n",
            "Epoch 7, Loss: 0.6486749887466431\n",
            "Epoch 8, Loss: 0.6708409011363983\n",
            "Epoch 9, Loss: 0.6594069182872773\n",
            "Epoch 10, Loss: 0.6539101302623749\n",
            "Epoch 11, Loss: 0.6506945133209229\n",
            "Epoch 12, Loss: 0.6339260816574097\n",
            "Epoch 13, Loss: 0.614831805229187\n",
            "Epoch 14, Loss: 0.6656072258949279\n",
            "Epoch 15, Loss: 0.6579149246215821\n",
            "Epoch 16, Loss: 0.6552719414234162\n",
            "Epoch 17, Loss: 0.620060670375824\n",
            "Epoch 18, Loss: 0.6075537264347076\n",
            "Epoch 19, Loss: 0.5797681301832199\n",
            "Epoch 20, Loss: 0.5857554316520691\n",
            "Training finished\n"
          ]
        }
      ]
    },
    {
      "cell_type": "code",
      "source": [
        "# Построение графика ошибки по эпохам\n",
        "plt.plot(range(1, epochs + 1), train_losses, marker='o')\n",
        "plt.title('Training Loss by Epoch')\n",
        "plt.xlabel('Epoch')\n",
        "plt.ylabel('Loss')\n",
        "plt.grid(True)\n",
        "plt.show()"
      ],
      "metadata": {
        "colab": {
          "base_uri": "https://localhost:8080/",
          "height": 472
        },
        "id": "sVrJyki8Evso",
        "outputId": "ab175826-fff5-407a-d199-034be80b6dd1"
      },
      "execution_count": null,
      "outputs": [
        {
          "output_type": "display_data",
          "data": {
            "text/plain": [
              "<Figure size 640x480 with 1 Axes>"
            ],
            "image/png": "[encoded data removed]"
          },
          "metadata": {}
        }
      ]
    },
    {
      "cell_type": "markdown",
      "source": [
        "# Вывод:\n",
        "\n",
        "Лучшая модель по метрикам - CatBoost, но показатель единица очень настараживает. Логистическая регрессия показала себя чуть хуже. Но метрики высокие.\n",
        "\n",
        "Нейронные сетки PyTorch SimpleNN и TabularNN показали себя плохо. Функции потерь высокие: TabularNN (0.58),  SimpleNN (0.67)"
      ],
      "metadata": {
        "id": "6pw-VhdEFz1s"
      }
    }
  ]
}